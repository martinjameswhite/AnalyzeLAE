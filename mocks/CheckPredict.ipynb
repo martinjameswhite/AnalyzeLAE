{
 "cells": [
  {
   "cell_type": "code",
   "execution_count": 1,
   "id": "5e507f41-627e-4a89-8193-3772efcfbf06",
   "metadata": {},
   "outputs": [],
   "source": [
    "import numpy as np\n",
    "import matplotlib.pyplot as plt\n",
    "%matplotlib inline"
   ]
  },
  {
   "cell_type": "code",
   "execution_count": 2,
   "id": "4469aeae-05f7-45a8-86a1-df3178453fe1",
   "metadata": {},
   "outputs": [],
   "source": [
    "import sys\n",
    "# Add everything to our paths.\n",
    "repo = \"/pscratch/sd/m/mwhite/AnalyzeLAE/\"\n",
    "for codedir in [\"Cobaya/lss_likelihood\"]:\n",
    "    sys.path.append(repo+codedir)"
   ]
  },
  {
   "cell_type": "code",
   "execution_count": 3,
   "id": "ff2f7dd9-95c4-4972-bdef-a3547ecb951b",
   "metadata": {},
   "outputs": [],
   "source": [
    "import json\n",
    "# Import the Class class.\n",
    "from classy import Class\n",
    "# Import velocileptors.\n",
    "from velocileptors.LPT.lpt_rsd_fftw import LPT_RSD\n",
    "# Gamma function for wp(R).\n",
    "from scipy.special import gamma\n",
    "# Spline.\n",
    "from scipy.interpolate import InterpolatedUnivariateSpline as Spline"
   ]
  },
  {
   "cell_type": "markdown",
   "id": "70f9c07d-53a9-47eb-a759-7612d43df34b",
   "metadata": {},
   "source": [
    "## LAE clustering\n",
    "\n",
    "Let's look at the clustering of LAEs in the mocks, using pre-generated data files created by AbacusHOD and theoretical predictions from Velocileptors."
   ]
  },
  {
   "cell_type": "code",
   "execution_count": 4,
   "id": "90454f77-36ba-4578-8829-cc4136a86cdd",
   "metadata": {},
   "outputs": [
    {
     "name": "stdout",
     "output_type": "stream",
     "text": [
      "# OmM=0.315, H0=67.36, z=3.00\n",
      "# Simulation box of side length 1000Mpc/h.\n",
      "# Have information for 198 HODs.\n",
      "# HOD params                          fsat       nbar\n",
      "  10.80  11.50   0.50   1.00   0.33   0.01   5.60e-02\n",
      "  10.80  11.80   0.50   1.00   0.33   0.01   5.60e-02\n",
      "  10.80  12.10   0.50   1.00   0.33   0.01   5.59e-02\n"
     ]
    }
   ],
   "source": [
    "lae = json.load(open(\"lae_n501_c000_ph100_s.json\",\"r\"))\n",
    "Lbox= lae['BoxSize']\n",
    "# Print some HOD information.  We will do the full list later.\n",
    "print(\"# OmM={:.3f}, H0={:.2f}, z={:.2f}\".format(lae['Omega_M'],lae['H0'],lae['Redshift']))\n",
    "print(\"# Simulation box of side length {:.0f}Mpc/h.\".format(Lbox))\n",
    "print(\"# Have information for {:d} HODs.\".format(len(lae['mocks'])))\n",
    "print(\"# {:33s} {:>6s} {:>10s}\".format('HOD params','fsat','nbar'))\n",
    "for samp in lae['mocks'][:3]:\n",
    "    hodstr = \"\"\n",
    "    for p in samp['hod']: hodstr += \" {:6.2f}\".format(p)\n",
    "    print(hodstr+\" {:6.2f} {:10.2e}\".format(samp['fsat'],samp['nobj']/Lbox**3))"
   ]
  },
  {
   "cell_type": "markdown",
   "id": "e3cc9284-9378-457c-9ee8-6c6c760bda9e",
   "metadata": {},
   "source": [
    "### Linear theory\n",
    "\n",
    "First set up the linear theory and background quantities for this cosmology using CLASS."
   ]
  },
  {
   "cell_type": "code",
   "execution_count": 5,
   "id": "4ac26174-2a80-4ac6-82c5-d31dd1f828cc",
   "metadata": {},
   "outputs": [
    {
     "name": "stdout",
     "output_type": "stream",
     "text": [
      "OmegaM= 0.3151917236639384\n",
      "sigma8= 0.8090915366308338\n",
      "hubble= 0.6736\n",
      "omegab= 0.02237\n",
      "omegav= 0.0006442\n"
     ]
    },
    {
     "data": {
      "text/plain": [
       "{'H0': 67.36,\n",
       " 'Omega_Lambda': 0.6847284676967347,\n",
       " 'age': 13.797154912501444,\n",
       " 'conformal_age': 14153.245737831245,\n",
       " 'Neff': 3.045998221453431,\n",
       " 'z_reio': 7.9332733154296875,\n",
       " '100*theta_s': 1.0418477711693583,\n",
       " 'rs_rec': 144.5310550407161,\n",
       " 'rs_d': 147.09704557186203}"
      ]
     },
     "execution_count": 5,
     "metadata": {},
     "output_type": "execute_result"
    }
   ],
   "source": [
    "# Set up the class instance.\n",
    "params = {\n",
    "    'output': 'tCl lCl mPk',\n",
    "    'l_max_scalars': 2000,\n",
    "    'P_k_max_h/Mpc': 50.,\n",
    "    'z_pk': '0.0,10',\n",
    "    'lensing': 'yes',\n",
    "    'A_s': np.exp(3.040)*1e-10,\n",
    "    'n_s': 0.96824,\n",
    "    'h': 0.6770,\n",
    "    'N_ur': 2.0328,\n",
    "    'N_ncdm': 1,\n",
    "    'tau_reio': 0.0568,\n",
    "    'omega_b': 0.022447,\n",
    "    'omega_cdm': 0.11923}\n",
    "# Now update some keys with N-body values.\n",
    "for k in ['n_s','omega_b','omega_cdm',\\\n",
    "          'omega_ncdm','N_ncdm','N_ur']:\n",
    "    params[k] = lae[k]\n",
    "params['h'] = lae['H0']/100.0\n",
    "#\n",
    "cosmo = Class()\n",
    "cosmo.set(params)\n",
    "cosmo.compute()\n",
    "#\n",
    "wb = cosmo.omega_b()\n",
    "wnu= params['omega_ncdm'] # wnu= 0.0106 * params['m_ncdm']\n",
    "#\n",
    "print(\"OmegaM=\",cosmo.Omega_m())\n",
    "print(\"sigma8=\",cosmo.sigma8())\n",
    "print(\"hubble=\",cosmo.h())\n",
    "print(\"omegab=\",wb)\n",
    "print(\"omegav=\",wnu)\n",
    "#\n",
    "cosmo.get_current_derived_parameters(['H0','Omega_Lambda',\\\n",
    "                                      'age','conformal_age','Neff',\\\n",
    "                                      'z_reio','100*theta_s','rs_rec','rs_d'])"
   ]
  },
  {
   "cell_type": "code",
   "execution_count": 6,
   "id": "7e2740f2-2917-43a4-8517-a083ce9cc9c8",
   "metadata": {},
   "outputs": [
    {
     "name": "stdout",
     "output_type": "stream",
     "text": [
      "z=3.00, f=0.9786\n",
      "knl= 0.5423896891428361  h/Mpc.\n"
     ]
    }
   ],
   "source": [
    "zz = lae['Redshift']\n",
    "ff = cosmo.scale_independent_growth_factor_f(zz)\n",
    "print(\"z={:.2f}, f={:.4f}\".format(zz,ff))\n",
    "#\n",
    "hub= cosmo.h()                # To convert to \"conventional\" Mpc/h units.\n",
    "kk = np.logspace(-4.0,1.5,1000)\n",
    "pk = np.array( [cosmo.pk(k*hub,zz)*hub**3 for k in kk] )\n",
    "pl = np.array( [cosmo.pk_lin(k*hub,zz)*hub**3 for k in kk] )\n",
    "#\n",
    "# Compute the Zeldovich displacement and hence k_{nl}.\n",
    "knl= 1/np.sqrt( np.trapz(pl,x=kk)/6./np.pi**2 )\n",
    "print(\"knl=\",knl,\" h/Mpc.\")"
   ]
  },
  {
   "cell_type": "code",
   "execution_count": 7,
   "id": "46338cee-889c-4f1e-97c0-8434ebd2542b",
   "metadata": {},
   "outputs": [
    {
     "data": {
      "text/plain": [
       "Text(0, 0.5, '$P(k)\\\\quad [h^{-3}{\\\\rm Mpc}^3]$')"
      ]
     },
     "execution_count": 7,
     "metadata": {},
     "output_type": "execute_result"
    },
    {
     "data": {
      "image/png": "[encoded data removed]",
      "text/plain": [
       "<Figure size 600x450 with 1 Axes>"
      ]
     },
     "metadata": {},
     "output_type": "display_data"
    }
   ],
   "source": [
    "fig,ax = plt.subplots(1,1,figsize=(6,4.5))\n",
    "ax.plot(kk,pk,label=\"$z={:.1f}$\".format(zz))\n",
    "ax.legend()\n",
    "ax.set_xscale('log')\n",
    "ax.set_yscale('log')\n",
    "ax.set_xlabel(r'$k\\quad [h\\,{\\rm Mpc}^{-1}]$',fontsize=18)\n",
    "ax.set_ylabel(r'$P(k)\\quad [h^{-3}{\\rm Mpc}^3]$',fontsize=18)"
   ]
  },
  {
   "cell_type": "markdown",
   "id": "85fefa10",
   "metadata": {},
   "source": [
    "### Compare with the N-body data\n"
   ]
  },
  {
   "cell_type": "code",
   "execution_count": 8,
   "id": "ce55477f",
   "metadata": {},
   "outputs": [],
   "source": [
    "# Copy the N-body data into a single array.\n",
    "ihod=35\n",
    "samp=lae['mocks'][ihod]"
   ]
  },
  {
   "cell_type": "markdown",
   "id": "6bee6b57-a45a-4a9a-9cd0-a24e709b3b30",
   "metadata": {},
   "source": [
    "### Sample surveys\n",
    "\n",
    "Finally let's look at some sample surveys."
   ]
  },
  {
   "cell_type": "markdown",
   "id": "e2f5f68c-540f-4754-b162-e95e454ef16b",
   "metadata": {},
   "source": [
    "and compute the projected clustering for one of our models."
   ]
  },
  {
   "cell_type": "code",
   "execution_count": 9,
   "id": "4ccfd5c3-98f7-4adb-9a4f-4600edce29d8",
   "metadata": {},
   "outputs": [
    {
     "name": "stdout",
     "output_type": "stream",
     "text": [
      "[0.6, 0.8, 1.0, 2.0, 3.0, 4.0, 5.0, 8.0, 10.0, 12.5, 15.0, 20.0]\n",
      "[0.6015495  0.52311862 0.46952518 0.32840115 0.25984783 0.21572763\n",
      " 0.18411465 0.12474948 0.10011754 0.07817706 0.06259466 0.04216844]\n"
     ]
    }
   ],
   "source": [
    "from predict_wR import NbodyCorrelationFunctions,ThinShellWR\n",
    "#\n",
    "ximod = NbodyCorrelationFunctions(\"lae_n501_c000_ph100_s.json\")\n",
    "thy   = ThinShellWR(ximod,4448.,\"lae_cosmos_N501_sfn.txt\")\n",
    "#\n",
    "Rs    = [0.6,0.8,1.,2.,3.,4.,5.,8.,10.,12.5,15.,20.]\n",
    "wofR  = thy(Rs,ihod)\n",
    "print(Rs)\n",
    "print(wofR)"
   ]
  },
  {
   "cell_type": "markdown",
   "id": "06806b0e-dd8b-4695-baec-05bc1bb7c920",
   "metadata": {},
   "source": [
    "A figure showing the clustering."
   ]
  },
  {
   "cell_type": "code",
   "execution_count": 10,
   "id": "d69950f2-5f57-4292-ad35-e7a6a10a359f",
   "metadata": {},
   "outputs": [],
   "source": [
    "dd   = np.loadtxt(\"mc_cosmos_N501_wR.txt\")\n",
    "corr = np.zeros( (dd.shape[0],dd.shape[0]) )\n",
    "fin  = open(\"mc_cosmos_N501_wR.txt\",\"r\")\n",
    "inp  = \"# Dummy\"\n",
    "while not inp.startswith(\"# Correlation matrix\"):\n",
    "    inp = fin.readline()\n",
    "for i in range(dd.shape[0]):\n",
    "    inp = fin.readline()[1:]\n",
    "    xx  = [float(x) for x in inp.split()]\n",
    "    for j in range(dd.shape[0]):\n",
    "        corr[i,j] = xx[j]\n",
    "cov = np.zeros_like(corr)\n",
    "for i in range(corr.shape[0]):\n",
    "    for j in range(corr.shape[1]):\n",
    "        cov[i,j]=dd[i,2]*corr[i,j]*dd[j,2]\n",
    "err = np.sqrt(np.diag(cov))"
   ]
  },
  {
   "cell_type": "code",
   "execution_count": 11,
   "id": "f194433d-803e-4112-9ee1-872b69bfd6a0",
   "metadata": {},
   "outputs": [
    {
     "data": {
      "image/png": "[encoded data removed]",
      "text/plain": [
       "<Figure size 800x325 with 3 Axes>"
      ]
     },
     "metadata": {},
     "output_type": "display_data"
    }
   ],
   "source": [
    "fig,ax = plt.subplots(1,2,figsize=(8,3.25))\n",
    "#\n",
    "ax[0].errorbar(dd[:,0],dd[:,1],yerr=err,fmt='s')\n",
    "ax[0].plot(Rs,wofR,'k--')\n",
    "ax[0].set_xscale('log')\n",
    "ax[0].set_yscale('log')\n",
    "ax[0].set_xlim(0.3,30.)\n",
    "ax[0].set_xlabel(r'$R\\quad [h^{-1}{\\rm Mpc}]$')\n",
    "ax[0].set_ylabel(r'$w_\\theta(R)$')\n",
    "ax[0].text(25.0,0.8,r'N501, $z\\approx 3.1$',ha='right',va='center')\n",
    "#\n",
    "cax = ax[1].imshow(corr,origin='lower',vmin=0,vmax=1,\\\n",
    "                   extent=[0.5,corr.shape[0]+0.5,0.5,corr.shape[1]+0.5])\n",
    "ax[1].set_aspect('equal')\n",
    "ax[1].set_xlabel(r'Bin number')\n",
    "ax[1].set_ylabel(r'Bin number')\n",
    "bar = plt.colorbar(cax)\n",
    "bar.set_label('Correlation')\n",
    "#\n",
    "plt.tight_layout()\n",
    "plt.savefig('lae_mock_cosmos_N501_wR.png')\n",
    "plt.savefig('lae_mock_cosmos_N501_wR.pdf')"
   ]
  },
  {
   "cell_type": "markdown",
   "id": "34e701f0-8326-4183-9881-05d5049c38d2",
   "metadata": {},
   "source": [
    "# Done"
   ]
  }
 ],
 "metadata": {
  "kernelspec": {
   "display_name": "CMB-env",
   "language": "python",
   "name": "cmb"
  },
  "language_info": {
   "codemirror_mode": {
    "name": "ipython",
    "version": 3
   },
   "file_extension": ".py",
   "mimetype": "text/x-python",
   "name": "python",
   "nbconvert_exporter": "python",
   "pygments_lexer": "ipython3",
   "version": "3.9.12"
  }
 },
 "nbformat": 4,
 "nbformat_minor": 5
}
