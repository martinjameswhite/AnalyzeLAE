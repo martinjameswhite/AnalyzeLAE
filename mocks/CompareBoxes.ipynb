{
 "cells": [
  {
   "cell_type": "code",
   "execution_count": 1,
   "id": "05003824-c696-41eb-bca4-b1080a90ad37",
   "metadata": {},
   "outputs": [],
   "source": [
    "import numpy  as np\n",
    "import matplotlib.pyplot as plt\n",
    "%matplotlib inline"
   ]
  },
  {
   "cell_type": "markdown",
   "id": "134335f8-80cc-49f4-a0ec-38ef444dca5f",
   "metadata": {},
   "source": [
    "## Compare clustering from different simulations\n",
    "\n",
    "This notebook uses the pre-computed clustering statistics for \"similar\" HODs from different simulations to assess the theoretical error arising from finite volume and mass resolution."
   ]
  },
  {
   "cell_type": "code",
   "execution_count": 2,
   "id": "c3680b22-d106-4026-b046-baf34fad1f48",
   "metadata": {},
   "outputs": [],
   "source": [
    "# Set up paths.\n",
    "import sys\n",
    "#\n",
    "basedir = \"/pscratch/sd/m/mwhite/AnalyzeLAE/\"\n",
    "for subdir in [\"odin\",\"mocks\",\"Cobaya/lss_likelihood\"]:\n",
    "    sys.path.append(basedir+subdir)"
   ]
  },
  {
   "cell_type": "code",
   "execution_count": 3,
   "id": "f245e3ed-c166-451a-88a7-eb62d8867dc2",
   "metadata": {},
   "outputs": [],
   "source": [
    "import json"
   ]
  },
  {
   "cell_type": "code",
   "execution_count": 4,
   "id": "8330477a-9d5d-4071-937c-04b2ffef4635",
   "metadata": {},
   "outputs": [],
   "source": [
    "filt   = \"n501\"\n",
    "cosmo  = \"c000\"\n",
    "fbase  = \"lae_\"+filt+\"_\"+cosmo+\"_\""
   ]
  },
  {
   "cell_type": "code",
   "execution_count": 5,
   "id": "d8e2c69d-d532-4835-85cf-972d065d22d6",
   "metadata": {},
   "outputs": [],
   "source": [
    "def close_enough(hod1,hod2):\n",
    "    \"\"\"Check whether two HODs are close.\"\"\"\n",
    "    good = True\n",
    "    for a,b in zip(hod1,hod2): good &= np.abs(a-b)<1e-2\n",
    "    return(good)"
   ]
  },
  {
   "cell_type": "code",
   "execution_count": 6,
   "id": "31ac73b7-951e-435b-bc1b-fbbed571388d",
   "metadata": {},
   "outputs": [],
   "source": [
    "fiducial_hod = [11.1,12.1,0.5,1.0,0.5]"
   ]
  },
  {
   "cell_type": "code",
   "execution_count": 7,
   "id": "cb52d6c2-bd7a-4cab-9eb8-432ba27c32bf",
   "metadata": {},
   "outputs": [
    {
     "name": "stdout",
     "output_type": "stream",
     "text": [
      "Box   1250, HOD 0061, nbar=  2.4799e-02, fsat=0.0246, HOD:  11.10  12.10   0.50   1.00   0.50\n",
      "Box   1000, HOD 0061, nbar=  2.9747e-02, fsat=0.0197, HOD:  11.10  12.10   0.50   1.00   0.50\n",
      "Box    750, HOD 0097, nbar=  3.1504e-02, fsat=0.0193, HOD:  11.10  12.10   0.50   1.00   0.50\n"
     ]
    },
    {
     "data": {
      "image/png": "[encoded data removed]",
      "text/plain": [
       "<Figure size 600x400 with 1 Axes>"
      ]
     },
     "metadata": {},
     "output_type": "display_data"
    }
   ],
   "source": [
    "# Our simulation names differ primarily in the phase.\n",
    "fig,ax = plt.subplots(1,1,figsize=(6,4))\n",
    "#\n",
    "icol=0\n",
    "for phase in [300,100,310]:\n",
    "    fname = fbase+\"ph{:d}\".format(phase)+\"_s.json\"\n",
    "    lae   = json.load(open(fname,\"r\"))\n",
    "    kk,RR = lae['k'],lae['R']\n",
    "    Lbox  = lae['BoxSize']\n",
    "    for ihod,itm in enumerate(lae['mocks']):\n",
    "        if close_enough(itm['hod'],fiducial_hod):\n",
    "            ss = \"Box {:6.0f}, HOD {:04d}, \".format(Lbox,ihod)\n",
    "            ss+= \"nbar={:12.4e}, \".format(itm['nobj']/Lbox**3)\n",
    "            ss+= \"fsat={:.4f}, HOD:\".format(itm['fsat'])\n",
    "            for j in itm['hod']: ss+= \" {:6.2f}\".format(j)\n",
    "            print(ss)\n",
    "            ax.plot(RR,np.array(itm['xi0']),'s',mfc='None',\\\n",
    "                    color='C'+str(icol),label='ph'+str(phase))\n",
    "            icol = (icol+1)%10\n",
    "#\n",
    "ax.legend(title='$z={:.1f}$'.format(lae['Redshift']))\n",
    "#\n",
    "ax.set_xlabel(r'$s\\quad [h^{-1}{\\rm Mpc}]$')\n",
    "ax.set_ylabel(r'$\\xi_0(s)$')\n",
    "ax.set_xscale('log')\n",
    "ax.set_yscale('log')\n",
    "#\n",
    "plt.tight_layout()"
   ]
  },
  {
   "cell_type": "markdown",
   "id": "7c00309e-91a3-445a-a7cc-df47d1b64b10",
   "metadata": {},
   "source": [
    "## The End"
   ]
  }
 ],
 "metadata": {
  "kernelspec": {
   "display_name": "Abacus-env",
   "language": "python",
   "name": "abacus"
  },
  "language_info": {
   "codemirror_mode": {
    "name": "ipython",
    "version": 3
   },
   "file_extension": ".py",
   "mimetype": "text/x-python",
   "name": "python",
   "nbconvert_exporter": "python",
   "pygments_lexer": "ipython3",
   "version": "3.9.16"
  }
 },
 "nbformat": 4,
 "nbformat_minor": 5
}
