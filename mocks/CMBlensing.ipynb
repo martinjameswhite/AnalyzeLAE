{
 "cells": [
  {
   "cell_type": "code",
   "execution_count": 1,
   "id": "5e507f41-627e-4a89-8193-3772efcfbf06",
   "metadata": {},
   "outputs": [],
   "source": [
    "import numpy as np\n",
    "import matplotlib.pyplot as plt\n",
    "%matplotlib inline"
   ]
  },
  {
   "cell_type": "code",
   "execution_count": 2,
   "id": "4469aeae-05f7-45a8-86a1-df3178453fe1",
   "metadata": {},
   "outputs": [],
   "source": [
    "import sys\n",
    "# Add everything to our paths.\n",
    "repo = \"/pscratch/sd/m/mwhite/AnalyzeLAE/\"\n",
    "for codedir in [\"odin\",\"mocks\",\"Cobaya/lss_likelihood\"]:\n",
    "    sys.path.append(repo+codedir)"
   ]
  },
  {
   "cell_type": "code",
   "execution_count": 3,
   "id": "ff2f7dd9-95c4-4972-bdef-a3547ecb951b",
   "metadata": {},
   "outputs": [],
   "source": [
    "import json\n",
    "# Import the Class class.\n",
    "from classy import Class\n",
    "# Import velocileptors.\n",
    "from velocileptors.LPT.lpt_rsd_fftw import LPT_RSD\n",
    "# Gamma function for wp(R).\n",
    "from scipy.special import gamma\n",
    "# Spline.\n",
    "from scipy.interpolate import InterpolatedUnivariateSpline as Spline"
   ]
  },
  {
   "cell_type": "markdown",
   "id": "70f9c07d-53a9-47eb-a759-7612d43df34b",
   "metadata": {},
   "source": [
    "## Best-fit spectra\n",
    "\n",
    "Load the clustering of LAEs from the mocks, using pre-generated data files created by AbacusHOD."
   ]
  },
  {
   "cell_type": "code",
   "execution_count": 4,
   "id": "90454f77-36ba-4578-8829-cc4136a86cdd",
   "metadata": {},
   "outputs": [],
   "source": [
    "# Load the cosmology information from the JSON file.\n",
    "lae = json.load(open(\"lae_n501_c000_ph100_s.json\",\"r\"))"
   ]
  },
  {
   "cell_type": "code",
   "execution_count": 5,
   "id": "ce55477f",
   "metadata": {},
   "outputs": [],
   "source": [
    "# The ZCV data are in a separate JSON file.\n",
    "zcv = json.load(open(\"lae_n501_c000_ph100_s_zcv.json\",\"r\"))\n",
    "pka = np.zeros( (len(zcv['k']),3) )\n",
    "pka[:,0] = zcv['k']\n",
    "pka[:,1] = zcv['pk0']\n",
    "pka[:,2] = zcv['pk2']"
   ]
  },
  {
   "cell_type": "code",
   "execution_count": 6,
   "id": "cfb745bb-1507-475f-8df6-8a7bc8205d09",
   "metadata": {},
   "outputs": [],
   "source": [
    "# And the bias data are in yet another file.\n",
    "bk = np.loadtxt(\"lae_n501_bk.txt\")\n",
    "#\n",
    "# Use the bias data to compute P_{gg} and P_{gm}.\n",
    "knb = bk[:, 0]\n",
    "pgg = bk[:,-1] * bk[:,1]**2\n",
    "pgm = bk[:,-1] * bk[:,2]"
   ]
  },
  {
   "cell_type": "markdown",
   "id": "03567c79-17aa-4854-8749-42375151e359",
   "metadata": {},
   "source": [
    "## Noise curves."
   ]
  },
  {
   "cell_type": "code",
   "execution_count": 7,
   "id": "161005bb-7b66-41d5-9468-2f58c1a9f3b1",
   "metadata": {},
   "outputs": [],
   "source": [
    "SOn = np.loadtxt(\"SO_kappa_noise.txt\")\n",
    "S4n = np.loadtxt(\"S4_kappa_noise.txt\")\n",
    "#\n",
    "SOn = SOn[:,[0,7]]\n",
    "S4n = S4n[:,[0,7]]"
   ]
  },
  {
   "cell_type": "markdown",
   "id": "e3cc9284-9378-457c-9ee8-6c6c760bda9e",
   "metadata": {},
   "source": [
    "### Linear theory\n",
    "\n",
    "First set up the linear theory and background quantities for this cosmology using CLASS."
   ]
  },
  {
   "cell_type": "code",
   "execution_count": 8,
   "id": "4ac26174-2a80-4ac6-82c5-d31dd1f828cc",
   "metadata": {},
   "outputs": [
    {
     "name": "stdout",
     "output_type": "stream",
     "text": [
      "OmegaM= 0.3151917236639384\n",
      "sigma8= 0.8090915366308338\n",
      "hubble= 0.6736\n",
      "omegab= 0.02237\n",
      "omegav= 0.0006442\n"
     ]
    },
    {
     "data": {
      "text/plain": [
       "{'H0': 67.36,\n",
       " 'Omega_Lambda': 0.6847284676967347,\n",
       " 'age': 13.797154912501444,\n",
       " 'conformal_age': 14153.245737831245,\n",
       " 'Neff': 3.045998221453431,\n",
       " 'z_reio': 7.9332733154296875,\n",
       " '100*theta_s': 1.0418477711693583,\n",
       " 'rs_rec': 144.5310550407161,\n",
       " 'rs_d': 147.09704557186203}"
      ]
     },
     "execution_count": 8,
     "metadata": {},
     "output_type": "execute_result"
    }
   ],
   "source": [
    "# Set up the class instance.\n",
    "params = {\n",
    "    'output': 'tCl lCl mPk',\n",
    "    'l_max_scalars': 2000,\n",
    "    'P_k_max_h/Mpc': 50.,\n",
    "    'z_pk': '0.0,10',\n",
    "    'lensing': 'yes',\n",
    "    'A_s': np.exp(3.040)*1e-10,\n",
    "    'n_s': 0.96824,\n",
    "    'h': 0.6770,\n",
    "    'N_ur': 2.0328,\n",
    "    'N_ncdm': 1,\n",
    "    'tau_reio': 0.0568,\n",
    "    'omega_b': 0.022447,\n",
    "    'omega_cdm': 0.11923}\n",
    "# Now update some keys with N-body values.\n",
    "for k in ['n_s','omega_b','omega_cdm',\\\n",
    "          'omega_ncdm','N_ncdm','N_ur']:\n",
    "    params[k] = lae[k]\n",
    "params['h'] = lae['H0']/100.0\n",
    "#\n",
    "cosmo = Class()\n",
    "cosmo.set(params)\n",
    "cosmo.compute()\n",
    "#\n",
    "wb = cosmo.omega_b()\n",
    "wnu= params['omega_ncdm'] # wnu= 0.0106 * params['m_ncdm']\n",
    "#\n",
    "print(\"OmegaM=\",cosmo.Omega_m())\n",
    "print(\"sigma8=\",cosmo.sigma8())\n",
    "print(\"hubble=\",cosmo.h())\n",
    "print(\"omegab=\",wb)\n",
    "print(\"omegav=\",wnu)\n",
    "#\n",
    "cosmo.get_current_derived_parameters(['H0','Omega_Lambda',\\\n",
    "                                      'age','conformal_age','Neff',\\\n",
    "                                      'z_reio','100*theta_s','rs_rec','rs_d'])"
   ]
  },
  {
   "cell_type": "code",
   "execution_count": 9,
   "id": "7e2740f2-2917-43a4-8517-a083ce9cc9c8",
   "metadata": {},
   "outputs": [
    {
     "name": "stdout",
     "output_type": "stream",
     "text": [
      "z=3.00, f=0.9786\n",
      "knl= 0.5423896891428361  h/Mpc.\n"
     ]
    }
   ],
   "source": [
    "zz = lae['Redshift']\n",
    "ff = cosmo.scale_independent_growth_factor_f(zz)\n",
    "print(\"z={:.2f}, f={:.4f}\".format(zz,ff))\n",
    "#\n",
    "hub= cosmo.h()                # To convert to \"conventional\" Mpc/h units.\n",
    "kk = np.logspace(-4.0,1.5,1000)\n",
    "pk = np.array( [cosmo.pk(k*hub,zz)*hub**3 for k in kk] )\n",
    "pl = np.array( [cosmo.pk_lin(k*hub,zz)*hub**3 for k in kk] )\n",
    "#\n",
    "# Compute the Zeldovich displacement and hence k_{nl}.\n",
    "knl= 1/np.sqrt( np.trapz(pl,x=kk)/6./np.pi**2 )\n",
    "print(\"knl=\",knl,\" h/Mpc.\")"
   ]
  },
  {
   "cell_type": "code",
   "execution_count": 10,
   "id": "6fec20d9-9ec7-42ec-81c6-a0657a0ffb4c",
   "metadata": {},
   "outputs": [],
   "source": [
    "# Work out the kappa auto-spectrum.\n",
    "cls = cosmo.lensed_cl(2000)\n",
    "ell = cls['ell'][2:]\n",
    "fac = 0.25*(ell+2)*(ell+1)*(ell)*(ell-1)  # As per \"explanatory.ini\" in CLASS.\n",
    "clkk= cls['pp'][2:] * fac"
   ]
  },
  {
   "cell_type": "markdown",
   "id": "baab137b-6b79-45a9-9bf1-1d2a3294461a",
   "metadata": {},
   "source": [
    "### LAE data\n",
    "\n",
    "Get some routines to help massage LAE data."
   ]
  },
  {
   "cell_type": "code",
   "execution_count": 11,
   "id": "65a2fb2f-429a-4823-bf58-002c9f78e5ce",
   "metadata": {},
   "outputs": [],
   "source": [
    "# Schechter function fits from the literature.  The phi* definition\n",
    "# is in terms of L, i.e. we need a ln(10) going to lgL [erg/s].\n",
    "# phi* is in units of Mpc^{-3} and converted to Mpc/h below.\n",
    "LFlist = []\n",
    "LFlist.append({'zfid':2.2,'phis':3.37e-4,'Lstar':4.87e42,'alpha':-1.80,\\\n",
    "               'ref':'Konno+16'})\n",
    "LFlist.append({'zfid':3.1,'phis':3.90e-4,'Lstar':8.49e42,'alpha':-1.80,\\\n",
    "               'ref':'Konno+16'})\n",
    "LFlist.append({'zfid':3.7,'phis':3.31e-4,'Lstar':9.16e42,'alpha':-1.80,\\\n",
    "               'ref':'Konno+16'})\n",
    "#LFlist.append({'zfid':3.7,'phis':3.4e-4,'Lstar':1.02e43,'alpha':-1.50,\\\n",
    "#               'ref':'Ouchi+08'})\n",
    "LFlist.append({'zfid':5.7,'phis':4.44e-4,'Lstar':9.09e42,'alpha':-1.80,\\\n",
    "               'ref':'Konno+16'})"
   ]
  },
  {
   "cell_type": "code",
   "execution_count": 12,
   "id": "b26f38d9-e7c6-41e8-93a0-1dd2094547e0",
   "metadata": {},
   "outputs": [],
   "source": [
    "def nbar_fit(lgL,zz):\n",
    "    \"\"\"Computes nbar, in [Mpc/h]^{-3}, given line luminosity lgL [erg/s]\n",
    "    for LAEs.\"\"\"\n",
    "    # Choose the closest redshift in the table.\n",
    "    delz= np.array([np.abs(zz-lf['zfid']) for lf in LFlist])\n",
    "    lf  = LFlist[np.argmin(delz)]\n",
    "    # Get the Schechter paramerers, converting to Mpc/h units.\n",
    "    hub = cosmo.h()\n",
    "    phis,lgLstar,alpha = lf['phis']/hub**3,np.log10(lf['Lstar']),lf['alpha']\n",
    "    # Just brute-force the Schechter integral, it's plenty fast enough.\n",
    "    logl = np.linspace(lgL,lgLstar+10,1000)\n",
    "    ll   = 10.0**(logl-lgLstar)\n",
    "    lf   = np.log(10)*phis * ll**(alpha+1) * np.exp(-ll)\n",
    "    nbar = np.trapz(lf,logl)\n",
    "    return(nbar)"
   ]
  },
  {
   "cell_type": "code",
   "execution_count": 13,
   "id": "70e09686-1b08-4fa4-89b3-756946f66dbe",
   "metadata": {},
   "outputs": [],
   "source": [
    "def flux2L(zz):\n",
    "    \"\"\"Convert a flux in erg/s/cm2 to log10(L) in [erg/s].\n",
    "    Add the returned value to log10(flux) to get log10(L).\"\"\"\n",
    "    Mpc_cm = 3.086e24 # 1 Mpc in cm.\n",
    "    dL     = cosmo.luminosity_distance(zz)\n",
    "    val    = np.log10(4*np.pi)+2*(np.log10(dL)+np.log10(Mpc_cm))\n",
    "    return(val)"
   ]
  },
  {
   "cell_type": "code",
   "execution_count": 14,
   "id": "828eea81-38b9-48ff-820e-cca4aa6fc14c",
   "metadata": {},
   "outputs": [
    {
     "name": "stdout",
     "output_type": "stream",
     "text": [
      "z    =  3.0\n",
      "Flux =  5.00e-17 [erg/s/cm^2]\n",
      "lgL  = 42.61 [erg/s]\n",
      "nbar =  8.61e-04 [Mpc/h]^3\n",
      "chi  = 4383Mpc/h\n"
     ]
    }
   ],
   "source": [
    "# Some helpful numbers.\n",
    "flux = 5e-17\n",
    "lgL  = np.log10(flux) + flux2L(zz)\n",
    "chi  = cosmo.comoving_distance(zz) * cosmo.h()\n",
    "nbar = nbar_fit(lgL,zz)\n",
    "#\n",
    "print(\"z    ={:5.1f}\".format(zz))\n",
    "print(\"Flux ={:10.2e} [erg/s/cm^2]\".format(flux))\n",
    "print(\"lgL  ={:6.2f} [erg/s]\".format(lgL))\n",
    "print(\"nbar ={:10.2e}\".format(nbar)+r' [Mpc/h]^3')\n",
    "print(\"chi  ={:5.0f}Mpc/h\".format(chi))"
   ]
  },
  {
   "cell_type": "markdown",
   "id": "714319be-024b-4276-917b-d954256b1509",
   "metadata": {},
   "source": [
    "## Now make the figure."
   ]
  },
  {
   "cell_type": "code",
   "execution_count": 15,
   "id": "ae7a6081-ca23-4d45-9da6-8ee34dbda2d4",
   "metadata": {},
   "outputs": [
    {
     "name": "stdout",
     "output_type": "stream",
     "text": [
      "fsky=0.30\n",
      "Distance for 2.75<z<3.25 is   329Mpc/h.\n",
      "Volume per sr is   6.32e+09 [Mpc/h]^3\n"
     ]
    }
   ],
   "source": [
    "fsky= 0.30\n",
    "zmin= 2.75\n",
    "zmax= 3.25\n",
    "dchi= (cosmo.comoving_distance(zmax)-cosmo.comoving_distance(zmin)) * cosmo.h()\n",
    "vol = chi**2 * dchi\n",
    "print(\"fsky={:.2f}\".format(fsky))\n",
    "print(\"Distance for {:.2f}<z<{:.2f} is {:5.0f}Mpc/h.\".format(zmin,zmax,dchi))\n",
    "print(\"Volume per sr is {:10.2e} [Mpc/h]^3\".format(vol))\n",
    "#\n",
    "chis= 9400.0 # Distance to last-scattering in Mpc/h.\n",
    "wgk = 1.5*cosmo.Omega_m()/2997.925**2*(1+zz)*chi*(chis-chi)/chis\n",
    "wgk/= chi**2"
   ]
  },
  {
   "cell_type": "code",
   "execution_count": 16,
   "id": "8797ffcc-1c69-41b5-8823-2d85cb395fcf",
   "metadata": {},
   "outputs": [],
   "source": [
    "clgg = np.interp(ell,chi*knb,(pgg+1/nbar)/vol)\n",
    "clgk = np.interp(ell,chi*knb,pgm*wgk)"
   ]
  },
  {
   "cell_type": "code",
   "execution_count": 17,
   "id": "fd1d0ead-d64d-4739-bd23-f4e072aea185",
   "metadata": {},
   "outputs": [
    {
     "data": {
      "image/png": "[encoded data removed]",
      "text/plain": [
       "<Figure size 600x275 with 1 Axes>"
      ]
     },
     "metadata": {},
     "output_type": "display_data"
    }
   ],
   "source": [
    "# Make the figure.\n",
    "fig,ax = plt.subplots(1,1,figsize=(6,2.75))\n",
    "# First do Simons.\n",
    "ax.plot(ell,1e6*clgg,'-',color='C0',label=r'$C_\\ell^{gg}$')\n",
    "ax.plot(ell,1e6*clgk,'-',color='C1',label=r'$C_\\ell^{g\\kappa}$')\n",
    "##ax.plot(ell,1e6*clkk,'-',color='C2',label=r'$C_\\ell^{\\kappa\\kappa}$')\n",
    "#\n",
    "Nell = 1.0/(2*ell+1)/fsky*( clgg*(clkk+np.interp(ell,SOn[:,0],SOn[:,1]))+clgk**2 )\n",
    "Nell = np.sqrt(Nell)\n",
    "ax.plot(ell,1e6*Nell,'--',color='gray',label=r'SO noise')\n",
    "#\n",
    "Nell = 1.0/(2*ell+1)/fsky*( clgg*(clkk+np.interp(ell,S4n[:,0],S4n[:,1]))+clgk**2 )\n",
    "Nell = np.sqrt(Nell)\n",
    "ax.plot(ell,1e6*Nell,':',color='gray',label=r'S4 noise')\n",
    "#\n",
    "ax.legend(title='${:.2f}<z<{:.2f}$,'.format(zmin,zmax)+r' $f_{\\rm sky}='+'{:.2f}$'.format(fsky),loc=1,ncol=4)\n",
    "ax.set_xlim(100.,1500)\n",
    "ax.set_ylim(1e-3,10.0)\n",
    "ax.set_yscale('log')\n",
    "ax.set_xlabel(r'Multipole $\\ell$')\n",
    "ax.set_ylabel(r'$10^6\\ C_\\ell$')\n",
    "#\n",
    "plt.tight_layout()\n",
    "plt.savefig('lae_cmb_lensing.pdf')\n",
    "plt.savefig('lae_cmb_lensing.png')"
   ]
  },
  {
   "cell_type": "markdown",
   "id": "34e701f0-8326-4183-9881-05d5049c38d2",
   "metadata": {},
   "source": [
    "# Done"
   ]
  }
 ],
 "metadata": {
  "kernelspec": {
   "display_name": "CMB-env",
   "language": "python",
   "name": "cmb"
  },
  "language_info": {
   "codemirror_mode": {
    "name": "ipython",
    "version": 3
   },
   "file_extension": ".py",
   "mimetype": "text/x-python",
   "name": "python",
   "nbconvert_exporter": "python",
   "pygments_lexer": "ipython3",
   "version": "3.9.12"
  }
 },
 "nbformat": 4,
 "nbformat_minor": 5
}
