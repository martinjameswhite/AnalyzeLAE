{
 "cells": [
  {
   "cell_type": "code",
   "execution_count": 1,
   "id": "e9ccfc39-acc9-4c27-9ce9-40df76773da8",
   "metadata": {},
   "outputs": [],
   "source": [
    "import numpy as np\n",
    "import matplotlib.pyplot as plt\n",
    "%matplotlib inline"
   ]
  },
  {
   "cell_type": "code",
   "execution_count": 2,
   "id": "8fd09e69-5d18-45ed-bf68-31e6f7c227b4",
   "metadata": {},
   "outputs": [],
   "source": [
    "from astropy.table import Table\n",
    "import json"
   ]
  },
  {
   "cell_type": "markdown",
   "id": "afdb8665-42c8-495a-9ff6-31c4e6fb9269",
   "metadata": {},
   "source": [
    "## Check LAE data\n",
    "\n",
    "Let's take a look at the LAE data in the ODIN fields.  This notebook writes the data files for different samples, does some sanity-check style plots, compares to the mocks and writes a number of summary files and figures that are helpful.  It assumes that the angular clustering and mock data are computed externally.\n",
    "\n",
    "**Note** you need to ensure that the files read by this notebook are in sync with the catalogs written by this notebook by hand."
   ]
  },
  {
   "cell_type": "code",
   "execution_count": 3,
   "id": "51d8eae8-2cff-4a48-b8f1-7d24adfeef4a",
   "metadata": {},
   "outputs": [],
   "source": [
    "# Set up paths.\n",
    "import sys\n",
    "#\n",
    "basedir = \"/pscratch/sd/m/mwhite/AnalyzeLAE/\"\n",
    "for subdir in [\"mocks\",\"Cobaya/lss_likelihood\"]:\n",
    "    sys.path.append(basedir+subdir)"
   ]
  },
  {
   "cell_type": "code",
   "execution_count": 4,
   "id": "568e86a3-f0e9-49b3-8ab2-f8542edfea35",
   "metadata": {},
   "outputs": [],
   "source": [
    "from predict_wR           import NbodyCorrelationFunctions,ThinShellWR\n",
    "from make_lae_survey_mask import SurveyMask\n",
    "#from calc_wR              import calc_wt\n",
    "#\n",
    "# Gamma function for wp(R).\n",
    "from scipy.special import gamma,erfc\n",
    "from scipy.stats   import chi2  as chi2dist"
   ]
  },
  {
   "cell_type": "markdown",
   "id": "0e057364-60b4-4a0e-b8c3-627e3083134f",
   "metadata": {},
   "source": [
    "## Set up the data set we'll study"
   ]
  },
  {
   "cell_type": "code",
   "execution_count": 5,
   "id": "3eec95e2-8f6c-432d-8eeb-5699b6423099",
   "metadata": {},
   "outputs": [
    {
     "name": "stdout",
     "output_type": "stream",
     "text": [
      "{'N419': 3941.0, 'N501': 4448.0, 'N673': 5160.0}\n",
      "{'N419': {'s0': 0.1}, 'N501': {'s0': 0.1066, 's3': 0.08}}\n"
     ]
    }
   ],
   "source": [
    "from fiducial import chi_dict,fint_dict\n",
    "print(chi_dict)\n",
    "print(fint_dict)"
   ]
  },
  {
   "cell_type": "code",
   "execution_count": 6,
   "id": "be5c95cc-863f-4466-b4ee-7257be6f6b42",
   "metadata": {},
   "outputs": [],
   "source": [
    "filter_name = \"N501\"\n",
    "fieldn      = \"cosmos\"\n",
    "fname       = fieldn+\"_\"+filter_name\n",
    "chi0        = chi_dict[filter_name]\n",
    "zrange      = [3.075,3.175]"
   ]
  },
  {
   "cell_type": "markdown",
   "id": "bad66850-8623-4f9a-ab08-dc1989f727a8",
   "metadata": {},
   "source": [
    "Take a quick look at the master file to check we're doing what we think we are."
   ]
  },
  {
   "cell_type": "code",
   "execution_count": 7,
   "id": "71ca7479-ea28-4309-b236-dc11f1401969",
   "metadata": {},
   "outputs": [
    {
     "name": "stdout",
     "output_type": "stream",
     "text": [
      "['RELEASE', 'BRICKID', 'BRICKNAME', 'OBJID', 'BRICK_PRIMARY', 'MASKBITS', 'FITBITS', 'TYPE', 'RA', 'DEC', 'RA_IVAR', 'DEC_IVAR', 'BX', 'BY', 'DCHISQ', 'EBV', 'MJD_MIN', 'MJD_MAX', 'REF_CAT', 'REF_ID', 'PMRA', 'PMDEC', 'PARALLAX', 'PMRA_IVAR', 'PMDEC_IVAR', 'PARALLAX_IVAR', 'REF_EPOCH', 'GAIA_PHOT_G_MEAN_MAG', 'GAIA_PHOT_G_MEAN_FLUX_OVER_ERROR', 'GAIA_PHOT_G_N_OBS', 'GAIA_PHOT_BP_MEAN_MAG', 'GAIA_PHOT_BP_MEAN_FLUX_OVER_ERROR', 'GAIA_PHOT_BP_N_OBS', 'GAIA_PHOT_RP_MEAN_MAG', 'GAIA_PHOT_RP_MEAN_FLUX_OVER_ERROR', 'GAIA_PHOT_RP_N_OBS', 'GAIA_PHOT_VARIABLE_FLAG', 'GAIA_ASTROMETRIC_EXCESS_NOISE', 'GAIA_ASTROMETRIC_EXCESS_NOISE_SIG', 'GAIA_ASTROMETRIC_N_OBS_AL', 'GAIA_ASTROMETRIC_N_GOOD_OBS_AL', 'GAIA_ASTROMETRIC_WEIGHT_AL', 'GAIA_DUPLICATED_SOURCE', 'GAIA_A_G_VAL', 'GAIA_E_BP_MIN_RP_VAL', 'GAIA_PHOT_BP_RP_EXCESS_FACTOR', 'GAIA_ASTROMETRIC_SIGMA5D_MAX', 'GAIA_ASTROMETRIC_PARAMS_SOLVED', 'FLUX_N501', 'FLUX_N673', 'FLUX_IVAR_N501', 'FLUX_IVAR_N673', 'FIBERFLUX_N501', 'FIBERFLUX_N673', 'FIBERTOTFLUX_N501', 'FIBERTOTFLUX_N673', 'APFLUX_N501', 'APFLUX_N673', 'APFLUX_RESID_N501', 'APFLUX_RESID_N673', 'APFLUX_BLOBRESID_N501', 'APFLUX_BLOBRESID_N673', 'APFLUX_IVAR_N501', 'APFLUX_IVAR_N673', 'APFLUX_MASKED_N501', 'APFLUX_MASKED_N673', 'MW_TRANSMISSION_N501', 'MW_TRANSMISSION_N673', 'NOBS_N501', 'NOBS_N673', 'RCHISQ_N501', 'RCHISQ_N673', 'FRACFLUX_N501', 'FRACFLUX_N673', 'FRACMASKED_N501', 'FRACMASKED_N673', 'FRACIN_N501', 'FRACIN_N673', 'ANYMASK_N501', 'ANYMASK_N673', 'ALLMASK_N501', 'ALLMASK_N673', 'PSFSIZE_N501', 'PSFSIZE_N673', 'PSFDEPTH_N501', 'PSFDEPTH_N673', 'GALDEPTH_N501', 'GALDEPTH_N673', 'NEA_N501', 'NEA_N673', 'BLOB_NEA_N501', 'BLOB_NEA_N673', 'SERSIC', 'SERSIC_IVAR', 'SHAPE_R', 'SHAPE_R_IVAR', 'SHAPE_E1', 'SHAPE_E1_IVAR', 'SHAPE_E2', 'SHAPE_E2_IVAR', 'FORCED_MEAN_FLUX_G', 'FORCED_MEAN_FLUX_R', 'FORCED_MEAN_FLUX_Z', 'FORCED_MEAN_FLUX_IVAR_G', 'FORCED_MEAN_FLUX_IVAR_R', 'FORCED_MEAN_FLUX_IVAR_Z', 'FORCED_MEAN_FLUX_CHI2_G', 'FORCED_MEAN_FLUX_CHI2_R', 'FORCED_MEAN_FLUX_CHI2_Z', 'FORCED_NOBS_G', 'FORCED_NOBS_R', 'FORCED_NOBS_Z', 'CANDTYPE', 'BRIGHTSTARFLAG', 'LINEFLUX', 'PRIORITY', 'SELECTION', 'VI', 'VI_TARGETID', 'VI_Z', 'VI_QUALITY', 'VI_SPECTYPE', 'EFFTIME_SPEC']\n",
      "\n",
      "\n",
      "Total entries in catalog:  1956\n",
      "Number with VI_Quality >= 2.0:  1365\n",
      "Median line flux (lg):  -16.13374692790852\n"
     ]
    },
    {
     "data": {
      "image/png": "[encoded data removed]",
      "text/plain": [
       "<Figure size 1000x400 with 2 Axes>"
      ]
     },
     "metadata": {},
     "output_type": "display_data"
    }
   ],
   "source": [
    "db  = \"/global/cfs/cdirs/desi/users/raichoor/laelbg/odin/phot/\"\n",
    "dat = Table.read(db+'odin-'+filter_name+'-'+fieldn+'-for-angclust.fits')\n",
    "print(dat.keys())\n",
    "print(\"\\n\")\n",
    "print(\"Total entries in catalog: \",len(dat))\n",
    "#\n",
    "dat = dat[ dat['VI_QUALITY']>=2.0 ]\n",
    "print(\"Number with VI_Quality >= 2.0: \",len(dat))\n",
    "#\n",
    "fig,ax = plt.subplots(1,2,figsize=(10,4))\n",
    "# Histogram the redshifts.\n",
    "bins = np.linspace(3.0,3.2,32)\n",
    "ax[0].hist(dat['VI_Z'],bins=bins)\n",
    "for zvalue in zrange:\n",
    "    ax[0].axvline(zvalue,ls=':',color='k')\n",
    "ax[0].set_xlabel(r'Redshift')\n",
    "# Historgram the line fluxes.\n",
    "ax[1].hist(np.log10(dat['LINEFLUX']))\n",
    "ax[1].set_xlabel(r'lg(Line flux)')\n",
    "#\n",
    "print(\"Median line flux (lg): \",np.log10(np.median(dat['LINEFLUX'])))"
   ]
  },
  {
   "cell_type": "markdown",
   "id": "cdf9d632-eae9-4342-9a95-f02642519f7b",
   "metadata": {},
   "source": [
    "## Read/make catalogs\n",
    "\n",
    "Read in the catalogs, masks, etc., and write out the data that we're actually going to use."
   ]
  },
  {
   "cell_type": "code",
   "execution_count": 8,
   "id": "c3850503-a308-4c66-ad21-59e4acdfc7ef",
   "metadata": {},
   "outputs": [
    {
     "name": "stdout",
     "output_type": "stream",
     "text": [
      "In-survey area  9.343340199646017  deg2.\n"
     ]
    }
   ],
   "source": [
    "mask = SurveyMask(\"lae_{:s}_msk.fits\".format(fname),None)\n",
    "print(\"In-survey area \",mask.area(),\" deg2.\")"
   ]
  },
  {
   "cell_type": "code",
   "execution_count": 9,
   "id": "048a72a0-eb4b-4ac0-ad4b-902f2004db60",
   "metadata": {},
   "outputs": [
    {
     "name": "stdout",
     "output_type": "stream",
     "text": [
      "Read information for  1956  data objects from file.\n",
      "Read information for  852080  rand objects from file.\n"
     ]
    }
   ],
   "source": [
    "# Read the targets from file.\n",
    "dat = Table.read(db+'odin-'+filter_name+'-'+fieldn+'-for-angclust.fits')\n",
    "print(\"Read information for \",len(dat),\" data objects from file.\")\n",
    "#\n",
    "ran = Table.read(\"lae_\"+fname+\"_ran.fits\")\n",
    "print(\"Read information for \",len(ran),\" rand objects from file.\")"
   ]
  },
  {
   "cell_type": "code",
   "execution_count": 10,
   "id": "53139379-e3e9-48d1-bce4-9dd957ba0e5d",
   "metadata": {},
   "outputs": [
    {
     "name": "stdout",
     "output_type": "stream",
     "text": [
      "Selection 3:\n",
      "  Keeping  1240  data objects after cuts and mask.\n",
      "  or 209.3 per deg2.\n",
      "  Median line flux (lg):  -16.137034231732954\n",
      "  Interloper fraction 0.0402-0.1137\n"
     ]
    }
   ],
   "source": [
    "# Write data catalogs for each of our selections:\n",
    "for selection in [3]:\n",
    "    if selection<0:\n",
    "        dat = Table.read('LAE_Candidates_NB501_v1_targeting.fits')\n",
    "        dat = dat[ dat['PRIORITY']==1 ]\n",
    "    else:\n",
    "        # Selection has already been applied!\n",
    "        dat = Table.read(db+'odin-'+filter_name+'-'+fieldn+'-for-angclust.fits')\n",
    "        if selection>3:\n",
    "            dat = dat[ dat['LINEFLUX']>7.5e-17 ]\n",
    "    dat = dat[ dat['MASKBITS']==0 ]\n",
    "    dat = dat[ mask(dat['RA'],dat['DEC']) ]\n",
    "    #\n",
    "    lgfmed = np.log10(np.median(dat['LINEFLUX']))\n",
    "    #\n",
    "    dat.write('odin_s{:d}_'.format(selection)+fname+'_dat.fits',overwrite=True)\n",
    "    nlae = len(dat)\n",
    "    #\n",
    "    dat     = dat[ dat['VI'] ]\n",
    "    dat     = dat[ dat['EFFTIME_SPEC']>1.5*3600. ]\n",
    "    allvid  = dat[ (dat['VI_QUALITY']>  -1) ]\n",
    "    allgood = dat[ (dat['VI_QUALITY']>=2.0) ]\n",
    "    inrange = dat[ (dat['VI_QUALITY']>=2.0)&\\\n",
    "                   (dat['VI_Z']>zrange[0])&\\\n",
    "                   (dat['VI_Z']<zrange[1]) ]\n",
    "    inrange = float(len(inrange))\n",
    "    #\n",
    "    print(\"Selection \"+str(selection)+':')\n",
    "    print(\"  Keeping \",len(dat),\" data objects after cuts and mask.\")\n",
    "    print(\"  or {:.1f} per deg2.\".format(nlae/mask.area()))\n",
    "    print(\"  Median line flux (lg): \",lgfmed)\n",
    "    print(\"  Interloper fraction {:.4f}-{:.4f}\".\\\n",
    "          format(1-inrange/len(allgood),1-inrange/len(allvid)))"
   ]
  },
  {
   "cell_type": "code",
   "execution_count": 11,
   "id": "b3f23273-1570-46ec-b7de-e6baf070705d",
   "metadata": {},
   "outputs": [],
   "source": [
    "# Now pick a selection to focus on.\n",
    "selection = 3\n",
    "dat = Table.read('odin_s{:d}_'.format(selection)+fname+'_dat.fits')"
   ]
  },
  {
   "cell_type": "code",
   "execution_count": 12,
   "id": "608ee9f0-9ffd-43b9-9109-e67b6334b794",
   "metadata": {},
   "outputs": [
    {
     "data": {
      "image/png": "[encoded data removed]",
      "text/plain": [
       "<Figure size 500x500 with 1 Axes>"
      ]
     },
     "metadata": {},
     "output_type": "display_data"
    }
   ],
   "source": [
    "fig,ax = plt.subplots(1,1,figsize=(5,5))\n",
    "#\n",
    "ax.scatter(dat['RA'],dat['DEC'],s=1,label='COSMOS N501')\n",
    "#\n",
    "ax.legend()\n",
    "#\n",
    "ax.set_xlim(np.max(dat['RA']),np.min(dat['RA']))\n",
    "ax.set_aspect('equal')\n",
    "ax.set_xlabel(r'RA [deg]')\n",
    "ax.set_ylabel(r'DEC [deg]')\n",
    "#\n",
    "plt.tight_layout()\n",
    "plt.savefig('odin_s{:d}_'.format(selection)+fname+'_field.png')"
   ]
  },
  {
   "cell_type": "markdown",
   "id": "9d4ecdaa-79ef-41fa-b93e-f6f650a9c85c",
   "metadata": {},
   "source": [
    "**At this point you should run the compute_clustering code to make sure we have w(R).**"
   ]
  },
  {
   "cell_type": "code",
   "execution_count": 13,
   "id": "75ccc1c9-c02b-479a-88c0-7aa03cacc0aa",
   "metadata": {},
   "outputs": [
    {
     "name": "stdout",
     "output_type": "stream",
     "text": [
      "R= [ 0.56642  0.8376   1.23861  1.83161  2.70851  4.00522  5.92276  8.75832\n",
      " 12.95144 19.15203]\n",
      "wR= [0.41221  0.49894  0.48465  0.37139  0.30011  0.22048  0.15085  0.095869\n",
      " 0.091317 0.059752]\n",
      "Ndof= 10\n",
      "P(chi2< 11.50)=  0.68\n",
      "P(chi2< 15.99)=  0.90\n",
      "P(chi2< 18.31)=  0.95\n"
     ]
    }
   ],
   "source": [
    "# Read the clustering of the data -- computed with \"compute_clustering.py\"\n",
    "# assuming the data files above have been created.\n",
    "# (This avoids needing to deal with GSL from within\n",
    "# the notebook).\n",
    "rval,wx = np.loadtxt('odin_s{:d}_'.format(selection)+fname+'_wx.txt',unpack=True)\n",
    "Ndof    = rval.size\n",
    "#\n",
    "print(\"R=\",rval)\n",
    "print(\"wR=\",wx)\n",
    "#\n",
    "print(\"Ndof=\",Ndof)\n",
    "for clev in [0.68,0.90,0.95]:\n",
    "    clim = chi2dist.ppf(clev,Ndof)\n",
    "    print(\"P(chi2<{:6.2f})={:6.2f}\".format(clim,clev))"
   ]
  },
  {
   "cell_type": "markdown",
   "id": "95407dab-43b2-4b3f-a9d7-8746e5e9fb25",
   "metadata": {},
   "source": [
    "## Now work out the \"theory\" to compare against\n",
    "\n",
    "The HOD models have been pre-computed in \"mocks\".  There are several boxes, and you want to use the largest box for which you have reasonable convergence to best capture the large-r behavior."
   ]
  },
  {
   "cell_type": "code",
   "execution_count": 14,
   "id": "d040a0d1-1059-4dfe-ba4b-23d652af7426",
   "metadata": {},
   "outputs": [],
   "source": [
    "def compute_r0_from_wR(R,wp,rfid=5.0,gam=1.8):\n",
    "    \"\"\"Calculates r0 from wp(Rfid).\"\"\"\n",
    "    wfid = 10.**np.interp(np.log10(rfid),np.log10(R),np.log10(wp))\n",
    "    fact = rfid**(1-gam) * np.sqrt(np.pi)*gamma(gam/2-0.5)/gamma(gam/2)\n",
    "    r0   = (wfid / fact)**(1./gam)\n",
    "    return(r0)"
   ]
  },
  {
   "cell_type": "code",
   "execution_count": 15,
   "id": "48e7e0ad-957e-422c-a33b-4ca86a1ff10b",
   "metadata": {},
   "outputs": [],
   "source": [
    "# Theory.\n",
    "thyfn = \"lae_n501_c000_ph100_s.json\"\n",
    "#thyfn = \"lae_n501_c000_ph300_s.json\"\n",
    "#thyfn = \"lae_n501_c000_ph310_s.json\"\n",
    "ximod = NbodyCorrelationFunctions(\"../mocks/\"+thyfn)\n",
    "thy   = ThinShellWR(ximod,chi0,\"lae_\"+fname+\"_sfn.txt\")\n",
    "Nmock = len(ximod.mod['mocks'])\n",
    "ihod  = 41"
   ]
  },
  {
   "cell_type": "code",
   "execution_count": 16,
   "id": "e4f08e57-d1dd-473f-9913-a636e424fac5",
   "metadata": {},
   "outputs": [
    {
     "name": "stdout",
     "output_type": "stream",
     "text": [
      "[ 0.44926232  0.57213695  0.72861817  0.92789749  1.18168031  1.50487352\n",
      "  1.91646106  2.44061907  3.1081359   3.95822065  5.04080619  6.41948222\n",
      "  8.17523038 10.41118108 13.25867118 16.88495859 21.50304679 27.38419634\n",
      " 34.87385841 44.41196614]\n",
      "[28.22528243 25.01720671 22.1801898  19.74084921 17.54755782 15.5995815\n",
      " 13.73822183 12.074947   10.43307205  8.94862472  7.51952592  6.27775648\n",
      "  5.11579486  4.04560945  3.1019541   2.27517078  1.61980189  1.11073211\n",
      "  0.75440439  0.46549585]\n",
      "[70.69949452 58.26614815 48.0193535  39.57457948 32.61491934 26.87919814\n",
      " 22.15217169 18.25644902 15.04583548 12.39984649 10.21918612  8.42202078\n",
      "  6.94090833  5.72026711  4.71429015  3.8852262   3.201963    2.63885975\n",
      "  2.1747849   1.79232313]\n",
      "[0.39922891 0.42936092 0.46190105 0.49882651 0.53802242 0.58035889\n",
      " 0.62017494 0.66140721 0.69341926 0.72167222 0.73582434 0.74539789\n",
      " 0.73704977 0.70724135 0.65798964 0.58559545 0.50587777 0.42091366\n",
      " 0.3468869  0.25971648]\n"
     ]
    }
   ],
   "source": [
    "# Compare our projected clustering to the power-law\n",
    "# fits from Khostovan+19.\n",
    "mock= ximod.mod['mocks'][ihod]\n",
    "R   = np.array(ximod.mod['R'])\n",
    "wp  = np.array(mock['wp'])\n",
    "print(R)\n",
    "print(wp)\n",
    "#\n",
    "# Table 2 of Khostovan+19: https://arxiv.org/pdf/1811.00556.pdf\n",
    "# IA427: z=2.51 \\pm 0.08\n",
    "# gam,r0,dr0 = 1.80,4.13,0.42 # Mpc/h.\n",
    "# IA484: z=2.99 \\pm 0.09\n",
    "# gam,r0,dr0 = 1.80,3.85,0.45 # Mpc/h.\n",
    "# IA505: z=3.17 \\pm 0.09\n",
    "gam,r0,dr0 = 1.80,3.62,0.52 # Mpc/h.\n",
    "# IA679: z=4.58 \\pm 0.14\n",
    "# gam,r0,dr0 = 1.80,10.81,1.75 # Mpc/h.\n",
    "# Compute wp(R) as:\n",
    "wpR = R**(1-gam) * r0**gam * np.sqrt(np.pi)*gamma(gam/2-0.5)/gamma(gam/2)\n",
    "print(wpR)\n",
    "print(wp/wpR)"
   ]
  },
  {
   "cell_type": "code",
   "execution_count": 17,
   "id": "a133a316-f638-490b-a6d2-9d5965eaae94",
   "metadata": {},
   "outputs": [],
   "source": [
    "# Compute the theory prediction for this mock.\n",
    "Rs    = np.geomspace(0.5,21,25)\n",
    "wofR  = thy(Rs,ihod)"
   ]
  },
  {
   "cell_type": "code",
   "execution_count": 18,
   "id": "418f7aec-b874-4015-8dfb-892b892104a0",
   "metadata": {},
   "outputs": [
    {
     "name": "stdout",
     "output_type": "stream",
     "text": [
      "Sampling fraction  0.0218\n"
     ]
    }
   ],
   "source": [
    "# Can use the mocks to compute errorbars.\n",
    "dd   = np.loadtxt(\"../mocks/mc_\"+fname+\"_wR.txt\")\n",
    "corr = np.zeros( (dd.shape[0],dd.shape[0]) )\n",
    "fin  = open(\"../mocks/mc_\"+fname+\"_wR.txt\",\"r\")\n",
    "inp  = \"# Dummy\"\n",
    "while not inp.startswith(\"# Correlation matrix\"):\n",
    "    if inp.startswith(\"# Sampling by\"):\n",
    "        fsamp = float( inp[inp.find(\"g by\")+4:inp.find(\"to get\")] )\n",
    "    inp = fin.readline()\n",
    "for i in range(dd.shape[0]):\n",
    "    inp = fin.readline()[1:]\n",
    "    xx  = [float(x) for x in inp.split()]\n",
    "    for j in range(dd.shape[0]):\n",
    "        corr[i,j] = xx[j]\n",
    "cov = np.zeros_like(corr)\n",
    "for i in range(corr.shape[0]):\n",
    "    for j in range(corr.shape[1]):\n",
    "        cov[i,j]=dd[i,2]*corr[i,j]*dd[j,2]\n",
    "err = np.sqrt(np.diag(cov))\n",
    "cinv= np.linalg.inv(cov)\n",
    "print(\"Sampling fraction \",fsamp)"
   ]
  },
  {
   "cell_type": "markdown",
   "id": "028a5ad2-aeb6-4a78-8909-94ad6ea2ed42",
   "metadata": {},
   "source": [
    "## Write a summary file"
   ]
  },
  {
   "cell_type": "code",
   "execution_count": 19,
   "id": "e9360635-0d42-4c74-8ccf-18dd895a7257",
   "metadata": {},
   "outputs": [],
   "source": [
    "outd = {}\n",
    "outd['fname'   ] = fname\n",
    "outd['selection']= selection\n",
    "outd['N_LAE'   ] = len(dat['RA'])\n",
    "outd['N_RAN'   ] = len(ran['RA'])\n",
    "outd['area'    ] = mask.area()\n",
    "outd['chi0'    ] = chi0\n",
    "outd['f_int'   ] = fint_dict[filter_name]['s'+str(selection)]\n",
    "outd['f_samp'  ] = fsamp\n",
    "outd['R'       ] = rval.tolist()\n",
    "outd['wR'      ] = wx.tolist()\n",
    "outd['werr'    ] = err.tolist()\n",
    "outd['cov'     ] = cov.tolist()\n",
    "with open('odin_s{:d}_'.format(selection)+fname+'_wR.json','w') as fout:\n",
    "    json.dump(outd,fout)"
   ]
  },
  {
   "cell_type": "markdown",
   "id": "d6ebe8ec-7775-49f7-a0b8-68b1a116e34a",
   "metadata": {},
   "source": [
    "## Write a model file"
   ]
  },
  {
   "cell_type": "code",
   "execution_count": 20,
   "id": "67322460-0861-4174-bd6b-b3e646436c16",
   "metadata": {
    "tags": []
   },
   "outputs": [],
   "source": [
    "mock = ximod.mod['mocks'][ihod]\n",
    "#\n",
    "outd = {}\n",
    "outd['fname'   ] = fname\n",
    "outd['selection']= selection\n",
    "outd['thyfn'   ] = thyfn\n",
    "outd['ihod'    ] = ihod\n",
    "outd['r0'      ] = compute_r0_from_wR(ximod.mod['R'],mock['wp'])\n",
    "outd['Rs'      ] = Rs.tolist()\n",
    "outd['wR'      ] = wofR.tolist()\n",
    "outd['ss'      ] = ximod.mod['R']\n",
    "outd['kk'      ] = ximod.mod['k']\n",
    "for k in ['hod','wp','xi0','xi2','pk0','pk2']:\n",
    "    outd[k] = mock[k]\n",
    "#\n",
    "with open('odin_s{:d}_'.format(selection)+fname+'_mod.json','w') as fout:\n",
    "    json.dump(outd,fout)"
   ]
  },
  {
   "cell_type": "markdown",
   "id": "8e739b53-3567-4faf-817a-75623d9ac54c",
   "metadata": {},
   "source": [
    "## Compare theory and observation "
   ]
  },
  {
   "cell_type": "code",
   "execution_count": 21,
   "id": "70f49daf-a213-4688-b8ce-263390fa7ba4",
   "metadata": {},
   "outputs": [
    {
     "data": {
      "image/png": "[encoded data removed]",
      "text/plain": [
       "<Figure size 450x250 with 1 Axes>"
      ]
     },
     "metadata": {},
     "output_type": "display_data"
    }
   ],
   "source": [
    "fig,ax = plt.subplots(1,1,figsize=(4.5,2.5))\n",
    "#\n",
    "ax.errorbar(rval,wx,yerr=err,fmt='s',color='k',label=r'ODIN')\n",
    "ax.plot(Rs,wofR,'b-',label=r'Mock')\n",
    "#\n",
    "ax.legend(title='N501, $z\\simeq 3.1$')\n",
    "#\n",
    "ax.set_xscale('log')\n",
    "ax.set_yscale('log')\n",
    "ax.set_xlim(0.50,21)\n",
    "ax.set_ylim(0.05, 2)\n",
    "ax.set_xlabel(r'$R\\quad [h^{-1}{\\rm Mpc}]$')\n",
    "ax.set_ylabel(r'$w_\\theta(R)$')\n",
    "#\n",
    "plt.tight_layout()\n",
    "plt.savefig('odin_s{:d}_'.format(selection)+fname+'_wR.png')\n",
    "plt.savefig('odin_s{:d}_'.format(selection)+fname+'_wR.pdf')"
   ]
  },
  {
   "cell_type": "code",
   "execution_count": 22,
   "id": "2d200024-f087-4f67-b4eb-a9c033068af6",
   "metadata": {},
   "outputs": [
    {
     "name": "stdout",
     "output_type": "stream",
     "text": [
      "#     chi2     r0  HOD params\n",
      "  0   5.26   3.09  10.80  11.50   0.50   1.00   0.33\n",
      "  1   5.26   3.08  10.80  11.80   0.50   1.00   0.33\n",
      "  2   5.23   3.09  10.80  12.10   0.50   1.00   0.33\n",
      "  3   5.27   2.96  10.80  11.50   0.66   1.00   0.33\n",
      "  4   5.31   2.98  10.80  11.80   0.66   1.00   0.33\n",
      "  5   5.27   2.96  10.80  12.10   0.66   1.00   0.33\n",
      "  6   5.25   3.09  10.80  11.50   0.50   1.00   0.50\n",
      "  7   5.30   3.10  10.80  11.80   0.50   1.00   0.50\n",
      "  8   5.25   3.09  10.80  12.10   0.50   1.00   0.50\n",
      "  9   5.36   2.96  10.80  11.50   0.66   1.00   0.50\n",
      " 10   5.29   2.96  10.80  11.80   0.66   1.00   0.50\n",
      " 11   5.32   2.96  10.80  12.10   0.66   1.00   0.50\n",
      " 12   5.24   3.08  10.80  11.50   0.50   1.00   0.66\n",
      " 13   5.23   3.08  10.80  11.80   0.50   1.00   0.66\n",
      " 14   5.22   3.08  10.80  12.10   0.50   1.00   0.66\n",
      " 15   5.28   2.97  10.80  11.50   0.66   1.00   0.66\n",
      " 16   5.34   2.99  10.80  11.80   0.66   1.00   0.66\n",
      " 17   5.35   2.96  10.80  12.10   0.66   1.00   0.66\n",
      " 18   5.65   3.16  10.90  11.60   0.50   1.00   0.33\n",
      " 19   5.64   3.16  10.90  11.90   0.50   1.00   0.33\n",
      " 20   5.58   3.15  10.90  12.20   0.50   1.00   0.33\n",
      " 21   5.20   3.02  10.90  11.60   0.66   1.00   0.33\n",
      " 22   5.18   3.02  10.90  11.90   0.66   1.00   0.33\n",
      " 23   5.26   3.02  10.90  12.20   0.66   1.00   0.33\n",
      " 24   5.70   3.18  10.90  11.60   0.50   1.00   0.50\n",
      " 25   5.70   3.17  10.90  11.90   0.50   1.00   0.50\n",
      " 26   5.65   3.16  10.90  12.20   0.50   1.00   0.50\n",
      " 27   5.18   3.02  10.90  11.60   0.66   1.00   0.50\n",
      " 28   5.21   3.02  10.90  11.90   0.66   1.00   0.50\n",
      " 29   5.24   3.02  10.90  12.20   0.66   1.00   0.50\n",
      " 30   5.68   3.17  10.90  11.60   0.50   1.00   0.66\n",
      " 31   5.68   3.17  10.90  11.90   0.50   1.00   0.66\n",
      " 32   5.67   3.16  10.90  12.20   0.50   1.00   0.66\n",
      " 33   5.23   3.02  10.90  11.60   0.66   1.00   0.66\n",
      " 34   5.26   3.01  10.90  11.90   0.66   1.00   0.66\n",
      " 35   5.19   3.01  10.90  12.20   0.66   1.00   0.66\n",
      " 36   6.62   3.27  11.00  11.70   0.50   1.00   0.33\n",
      " 37   6.70   3.28  11.00  12.00   0.50   1.00   0.33\n",
      " 38   6.60   3.26  11.00  12.30   0.50   1.00   0.33\n",
      " 39   5.28   3.08  11.00  11.70   0.66   1.00   0.33\n",
      " 40   5.27   3.07  11.00  12.00   0.66   1.00   0.33\n",
      " 41   5.27   3.05  11.00  12.30   0.66   1.00   0.33\n",
      " 42   6.62   3.26  11.00  11.70   0.50   1.00   0.50\n",
      " 43   6.68   3.28  11.00  12.00   0.50   1.00   0.50\n",
      " 44   6.59   3.27  11.00  12.30   0.50   1.00   0.50\n",
      " 45   5.27   3.07  11.00  11.70   0.66   1.00   0.50\n",
      " 46   5.25   3.08  11.00  12.00   0.66   1.00   0.50\n",
      " 47   5.25   3.07  11.00  12.30   0.66   1.00   0.50\n",
      " 48   6.61   3.27  11.00  11.70   0.50   1.00   0.66\n",
      " 49   6.75   3.28  11.00  12.00   0.50   1.00   0.66\n",
      " 50   6.53   3.25  11.00  12.30   0.50   1.00   0.66\n",
      " 51   5.30   3.07  11.00  11.70   0.66   1.00   0.66\n",
      " 52   5.18   3.06  11.00  12.00   0.66   1.00   0.66\n",
      " 53   5.25   3.06  11.00  12.30   0.66   1.00   0.66\n",
      " 54   8.59   3.39  11.10  11.80   0.50   1.00   0.33\n",
      " 55   8.51   3.38  11.10  12.10   0.50   1.00   0.33\n",
      " 56   8.23   3.36  11.10  12.40   0.50   1.00   0.33\n",
      " 57   5.48   3.14  11.10  11.80   0.66   1.00   0.33\n",
      " 58   5.45   3.14  11.10  12.10   0.66   1.00   0.33\n",
      " 59   5.46   3.13  11.10  12.40   0.66   1.00   0.33\n",
      " 60   8.46   3.38  11.10  11.80   0.50   1.00   0.50\n",
      " 61   8.46   3.38  11.10  12.10   0.50   1.00   0.50\n",
      " 62   8.26   3.38  11.10  12.40   0.50   1.00   0.50\n",
      " 63   5.45   3.14  11.10  11.80   0.66   1.00   0.50\n",
      " 64   5.41   3.14  11.10  12.10   0.66   1.00   0.50\n",
      " 65   5.44   3.13  11.10  12.40   0.66   1.00   0.50\n",
      " 66   8.52   3.38  11.10  11.80   0.50   1.00   0.66\n",
      " 67   8.50   3.39  11.10  12.10   0.50   1.00   0.66\n",
      " 68   8.24   3.37  11.10  12.40   0.50   1.00   0.66\n",
      " 69   5.51   3.14  11.10  11.80   0.66   1.00   0.66\n",
      " 70   5.47   3.14  11.10  12.10   0.66   1.00   0.66\n",
      " 71   5.45   3.12  11.10  12.40   0.66   1.00   0.66\n",
      " 72  11.72   3.51  11.20  11.90   0.50   1.00   0.33\n",
      " 73  11.46   3.49  11.20  12.20   0.50   1.00   0.33\n",
      " 74  11.11   3.48  11.20  12.50   0.50   1.00   0.33\n",
      " 75   6.05   3.21  11.20  11.90   0.66   1.00   0.33\n",
      " 76   6.03   3.19  11.20  12.20   0.66   1.00   0.33\n",
      " 77   5.88   3.20  11.20  12.50   0.66   1.00   0.33\n",
      " 78  11.81   3.50  11.20  11.90   0.50   1.00   0.50\n",
      " 79  11.43   3.49  11.20  12.20   0.50   1.00   0.50\n",
      " 80  10.93   3.47  11.20  12.50   0.50   1.00   0.50\n",
      " 81   6.00   3.22  11.20  11.90   0.66   1.00   0.50\n",
      " 82   5.97   3.20  11.20  12.20   0.66   1.00   0.50\n",
      " 83   5.80   3.20  11.20  12.50   0.66   1.00   0.50\n",
      " 84  11.76   3.51  11.20  11.90   0.50   1.00   0.66\n",
      " 85  11.44   3.49  11.20  12.20   0.50   1.00   0.66\n",
      " 86  10.85   3.47  11.20  12.50   0.50   1.00   0.66\n",
      " 87   6.02   3.20  11.20  11.90   0.66   1.00   0.66\n",
      " 88   5.98   3.19  11.20  12.20   0.66   1.00   0.66\n",
      " 89   5.87   3.19  11.20  12.50   0.66   1.00   0.66\n",
      " 92  15.45   3.62  11.30  12.60   0.50   1.00   0.33\n",
      " 93   7.07   3.29  11.30  12.00   0.66   1.00   0.33\n",
      " 94   6.79   3.28  11.30  12.30   0.66   1.00   0.33\n",
      " 95   6.70   3.27  11.30  12.60   0.66   1.00   0.33\n",
      " 98  15.19   3.60  11.30  12.60   0.50   1.00   0.50\n",
      " 99   6.98   3.29  11.30  12.00   0.66   1.00   0.50\n",
      "100   6.76   3.28  11.30  12.30   0.66   1.00   0.50\n",
      "101   6.61   3.26  11.30  12.60   0.66   1.00   0.50\n",
      "104  14.78   3.59  11.30  12.60   0.50   1.00   0.66\n",
      "105   7.03   3.28  11.30  12.00   0.66   1.00   0.66\n",
      "106   6.84   3.28  11.30  12.30   0.66   1.00   0.66\n",
      "107   6.49   3.26  11.30  12.60   0.66   1.00   0.66\n",
      "111   8.51   3.37  11.40  12.10   0.66   1.00   0.33\n",
      "112   8.16   3.35  11.40  12.40   0.66   1.00   0.33\n",
      "113   7.84   3.34  11.40  12.70   0.66   1.00   0.33\n",
      "117   8.48   3.36  11.40  12.10   0.66   1.00   0.50\n",
      "118   8.10   3.37  11.40  12.40   0.66   1.00   0.50\n",
      "119   7.76   3.33  11.40  12.70   0.66   1.00   0.50\n",
      "123   8.43   3.38  11.40  12.10   0.66   1.00   0.66\n",
      "124   8.07   3.36  11.40  12.40   0.66   1.00   0.66\n",
      "125   7.61   3.32  11.40  12.70   0.66   1.00   0.66\n",
      "129  10.75   3.46  11.50  12.20   0.66   1.00   0.33\n",
      "130  10.29   3.45  11.50  12.50   0.66   1.00   0.33\n",
      "131   9.76   3.43  11.50  12.80   0.66   1.00   0.33\n",
      "135  10.71   3.46  11.50  12.20   0.66   1.00   0.50\n",
      "136  10.03   3.44  11.50  12.50   0.66   1.00   0.50\n",
      "137   9.58   3.42  11.50  12.80   0.66   1.00   0.50\n",
      "141  10.61   3.46  11.50  12.20   0.66   1.00   0.66\n",
      "142   9.90   3.43  11.50  12.50   0.66   1.00   0.66\n",
      "143   9.31   3.42  11.50  12.80   0.66   1.00   0.66\n",
      "147  13.97   3.57  11.60  12.30   0.66   1.00   0.33\n",
      "148  13.21   3.54  11.60  12.60   0.66   1.00   0.33\n",
      "149  12.56   3.52  11.60  12.90   0.66   1.00   0.33\n",
      "153  13.92   3.56  11.60  12.30   0.66   1.00   0.50\n",
      "154  12.76   3.53  11.60  12.60   0.66   1.00   0.50\n",
      "155  12.09   3.51  11.60  12.90   0.66   1.00   0.50\n",
      "159  13.79   3.55  11.60  12.30   0.66   1.00   0.66\n",
      "160  12.48   3.52  11.60  12.60   0.66   1.00   0.66\n",
      "161  11.65   3.49  11.60  12.90   0.66   1.00   0.66\n",
      "173  15.55   3.60  11.70  13.00   0.66   1.00   0.50\n",
      "179  14.95   3.59  11.70  13.00   0.66   1.00   0.66\n",
      "\n",
      "Best-fitting HOD is  27\n"
     ]
    }
   ],
   "source": [
    "# Now we can compute chi^2 for each HOD model\n",
    "# a print those that are \"reasonable fits\".\n",
    "clst,rlst = [],[]\n",
    "print(\"# {:1s} {:>6s} {:>6s}  {:s}\".format(\" \",\"chi2\",\"r0\",\"HOD params\"))\n",
    "for ihod in range(Nmock):\n",
    "    wofR = thy(rval,ihod)\n",
    "    chi2 = np.dot(wofR-wx,np.dot(cinv,wofR-wx))\n",
    "    mm   = ximod.mod['mocks'][ihod]\n",
    "    r0   = compute_r0_from_wR(ximod.mod['R'],mm['wp'])\n",
    "    #\n",
    "    clst.append(chi2)\n",
    "    rlst.append(r0)\n",
    "    #\n",
    "    if chi2<chi2dist.ppf(0.90,Ndof):\n",
    "        outstr = \"{:3d} {:6.2f} {:6.2f}\".format(ihod,chi2,r0)\n",
    "        for x in mm['hod']:\n",
    "            outstr += \" {:6.2f}\".format(x)\n",
    "        print(outstr)\n",
    "#\n",
    "clst   = np.array(clst)\n",
    "rlst   = np.array(rlst)\n",
    "minhod = np.argmin(clst)\n",
    "print(\"\\nBest-fitting HOD is \",minhod)"
   ]
  },
  {
   "cell_type": "code",
   "execution_count": 23,
   "id": "39b5ff78-dc53-4f0c-bef8-1436caf0cbaf",
   "metadata": {},
   "outputs": [
    {
     "name": "stdout",
     "output_type": "stream",
     "text": [
      "r0=3.13 +/- 0.12\n",
      "r0=3.02 +/- 0.20\n"
     ]
    }
   ],
   "source": [
    "# Work out the mean and std.dev. for r0.\n",
    "prob  = np.exp(-0.5*(clst-Ndof))\n",
    "prob /= np.sum(prob)\n",
    "r0avg = np.sum(rlst*prob)\n",
    "r0err = np.sqrt( np.sum(rlst**2*prob)-r0avg**2 )\n",
    "print(\"r0={:.2f} +/- {:.2f}\".format(r0avg,r0err))\n",
    "# Now do best fit and Delta-chi2=1.\n",
    "r0avg = rlst[minhod]\n",
    "r0err = np.max(rlst[(clst<clst[minhod]+1)&(rlst>r0avg)])-r0avg\n",
    "print(\"r0={:.2f} +/- {:.2f}\".format(r0avg,r0err))"
   ]
  },
  {
   "cell_type": "code",
   "execution_count": 24,
   "id": "66fb612b-c4d7-4c24-8916-d454d3d14cd1",
   "metadata": {},
   "outputs": [
    {
     "data": {
      "image/png": "[encoded data removed]",
      "text/plain": [
       "<Figure size 450x250 with 1 Axes>"
      ]
     },
     "metadata": {},
     "output_type": "display_data"
    }
   ],
   "source": [
    "# Look at the models, color-coded by goodness-of-fit.\n",
    "fig,ax = plt.subplots(1,1,figsize=(4.5,2.5))\n",
    "#\n",
    "ax.errorbar(rval,wx,yerr=err,fmt='s',color='k',label=r'ODIN')\n",
    "#\n",
    "for ihod in range(Nmock):\n",
    "    wofR = thy(Rs,ihod)\n",
    "    alpha= np.exp(-0.5*(clst[ihod]-clst[minhod]))\n",
    "    if ihod==minhod:\n",
    "        ax.plot(Rs,wofR,'b-',label=r'Mock')\n",
    "    else:\n",
    "        ax.plot(Rs,wofR,'-',color=str(1-alpha),alpha=0.3*alpha)\n",
    "#\n",
    "ax.legend(title='N501, $z\\simeq 3.1$')\n",
    "#\n",
    "ax.set_xscale('log')\n",
    "ax.set_yscale('log')\n",
    "ax.set_xlim(0.50,21)\n",
    "ax.set_ylim(0.05, 2)\n",
    "ax.set_xlabel(r'$R\\quad [h^{-1}{\\rm Mpc}]$')\n",
    "ax.set_ylabel(r'$w_\\theta(R)$')\n",
    "#\n",
    "plt.tight_layout()\n",
    "##plt.savefig('odin_p{:d}_'.format(selection)+fname+'_wR.png')\n",
    "##plt.savefig('odin_p{:d}_'.format(selection)+fname+'_wR.pdf')"
   ]
  },
  {
   "cell_type": "code",
   "execution_count": 25,
   "id": "45583f1b-f9e1-4e5d-8309-b2be9e5642b5",
   "metadata": {},
   "outputs": [
    {
     "data": {
      "image/png": "[encoded data removed]",
      "text/plain": [
       "<Figure size 450x250 with 1 Axes>"
      ]
     },
     "metadata": {},
     "output_type": "display_data"
    }
   ],
   "source": [
    "# Plot the HODs, shaded by goodness-of-fit.\n",
    "fig,ax = plt.subplots(1,1,figsize=(4.5,2.5))\n",
    "#\n",
    "nobj_best = ximod.mod['mocks'][minhod]['nobj']\n",
    "mhalo = np.logspace(10.0,14.5,100)\n",
    "hodmin= 0*mhalo + 1e30\n",
    "hodmax= 0*mhalo - 1.0\n",
    "for ihod in range(Nmock):\n",
    "    alpha = np.exp(-0.5*(clst[ihod]-clst[minhod]))\n",
    "    samp  = ximod.mod['mocks'][ihod]       \n",
    "    mcut  = 10.**samp['hod'][0]\n",
    "    m1    = 10.**samp['hod'][1]\n",
    "    sigm  = samp['hod'][2]\n",
    "    kapp  = samp['hod'][3]\n",
    "    alph  = samp['hod'][4]\n",
    "    frac  = fsamp * nobj_best/samp['nobj']\n",
    "    ncen  = 0.5*erfc(np.log(mcut/mhalo)/np.sqrt(2.0)/sigm)\n",
    "    nsat  = (mhalo-kapp*mcut).clip(0,1e30)\n",
    "    nsat  = ( (nsat/m1)**alph ) * ncen\n",
    "    if clst[ihod]<chi2dist.ppf(0.95,Ndof):\n",
    "        hodmin= np.minimum(hodmin,frac*(ncen+nsat))\n",
    "        hodmax= np.maximum(hodmax,frac*(ncen+nsat))\n",
    "    if ihod==minhod:\n",
    "        ax.plot(mhalo,frac*(ncen+nsat),color='C0')\n",
    "    #ax.plot(mhalo,frac*(ncen+nsat),'-',color=str(1-alpha),alpha=0.3*alpha)\n",
    "#\n",
    "ax.plot(mhalo,hodmin,'-',color='grey')\n",
    "ax.plot(mhalo,hodmax,'-',color='grey')\n",
    "ax.fill_between(mhalo,hodmin,hodmax,color='lightgrey',alpha=0.5)\n",
    "#\n",
    "ax.set_xscale('log')\n",
    "ax.set_yscale('log')\n",
    "ax.set_xlim(1e10,1e14)\n",
    "ax.set_ylim(3e-3,3.00)\n",
    "ax.set_xlabel(r'$M_h\\quad [h^{-1}M_\\odot]$')\n",
    "ax.set_ylabel(r'$\\langle N\\rangle(M_h)$')\n",
    "#\n",
    "plt.tight_layout()\n",
    "plt.savefig('odin_s{:d}_'.format(selection)+fname+'_hod.png')\n",
    "plt.savefig('odin_s{:d}_'.format(selection)+fname+'_hod.pdf')"
   ]
  },
  {
   "cell_type": "code",
   "execution_count": 26,
   "id": "15586103-e83f-4b76-9058-8c0f650a3340",
   "metadata": {},
   "outputs": [
    {
     "data": {
      "image/png": "[encoded data removed]",
      "text/plain": [
       "<Figure size 600x325 with 1 Axes>"
      ]
     },
     "metadata": {},
     "output_type": "display_data"
    }
   ],
   "source": [
    "# Look at how chi^2 and r0 are correlated.\n",
    "fig,ax = plt.subplots(1,1,figsize=(6,3.25))\n",
    "#\n",
    "ax.scatter(rlst,clst,s=1)\n",
    "ax.scatter(rlst,Ndof*prob/prob.max(),s=1)\n",
    "#\n",
    "for clev in [0.68,0.90,0.95]:\n",
    "    clim = chi2dist.ppf(clev,Ndof)\n",
    "    ax.axhline(clim,ls='--',color='k')\n",
    "    ax.text(0.99*np.max(rlst),clim,'{:.0f}% CL'.format(100*clev),\\\n",
    "            ha='right',va='bottom')\n",
    "#\n",
    "ax.set_xlim(np.min(rlst),np.max(rlst))\n",
    "ax.set_ylim(0.0,chi2dist.ppf(0.99,Ndof)+5)\n",
    "#\n",
    "ax.set_xlabel(r'$r_0\\quad [h^{-1}{\\rm Mpc}]$')\n",
    "ax.set_ylabel(r'$\\chi^2$')\n",
    "#\n",
    "plt.tight_layout()\n",
    "plt.savefig('odin_s{:d}_'.format(selection)+fname+'_chi2.png')"
   ]
  },
  {
   "cell_type": "markdown",
   "id": "d763490a-f2a3-48cf-8030-2dcfc85cdaea",
   "metadata": {},
   "source": [
    "# The End"
   ]
  }
 ],
 "metadata": {
  "kernelspec": {
   "display_name": "Abacus-env",
   "language": "python",
   "name": "abacus"
  },
  "language_info": {
   "codemirror_mode": {
    "name": "ipython",
    "version": 3
   },
   "file_extension": ".py",
   "mimetype": "text/x-python",
   "name": "python",
   "nbconvert_exporter": "python",
   "pygments_lexer": "ipython3",
   "version": "3.9.16"
  }
 },
 "nbformat": 4,
 "nbformat_minor": 5
}
