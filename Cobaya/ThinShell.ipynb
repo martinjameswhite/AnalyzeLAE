{
 "cells": [
  {
   "cell_type": "code",
   "execution_count": 1,
   "id": "d93df9d7-c5db-4bd2-84d8-752b58deff6d",
   "metadata": {},
   "outputs": [],
   "source": [
    "import numpy as np\n",
    "import matplotlib.pyplot as plt\n",
    "%matplotlib inline"
   ]
  },
  {
   "cell_type": "code",
   "execution_count": 2,
   "id": "f0c5e199-f245-4144-b0aa-6e26df638e76",
   "metadata": {},
   "outputs": [],
   "source": [
    "from classy            import Class\n",
    "from scipy.interpolate import InterpolatedUnivariateSpline as Spline"
   ]
  },
  {
   "cell_type": "markdown",
   "id": "d1169d76-d48c-4b10-b092-5b0df5457cf5",
   "metadata": {},
   "source": [
    "## Thin-shell clustering and Lyman Alpha Emitters\n",
    "\n",
    "Let's look at some clustering properties of LAEs selected in narrow-band surveys.\n",
    "\n",
    "A typical LAE at $z>2$ with $\\sim L_\\star$ Ly$\\alpha$ luminosity is the counterpart of a local dwarf galaxy: a compact, metal-poor, star-forming galaxy with SFR$\\sim 1-10\\ M_\\odot\\mathrm{yr}^{-1}$.  Halo masses are very uncertain but range from 1e10 to 1e11Msun, though for the brighter galaxies we're interested in they may be closer to 1e12Msun.\n",
    "\n",
    "From Table 1 of the ODIN proposal we have redshift widths of 0.06, 0.06 and 0.08 at z=2.4, 3.1 and 4.5 respectively.  Using $d\\chi=c\\, dz/H(z)$ these translate into comoving distance \"depths\" of 50, 40 and $30h^{-1}$Mpc.   These depths correspond to fundamental modes of $2\\pi/\\Delta\\chi = 0.12$, 0.16 and $0.19\\,h\\,\\mathrm{Mpc}^{-1}$ which is significantly larger than the spacing of the BAO peaks.\n",
    "\n",
    "If we were to do a pseudo-$C_\\ell$ analysis in redshift bins.  If I make the bins wide enough that redshift errors are \"small\" then I can treat these as disjoint projected fields.  The shells are so narrow that the Limber approximation is not valid for any interesting $k$, which is an odd feature we don't normally encounter.  Making the flat-sky approximation one finds the angular cross-spectrum between shells $i$ and $j$, each of width $\\Delta\\chi$ and separated by $\\chi_{ij}$ is\n",
    "$$\n",
    "  C_\\ell^{ij} \\simeq \\int\\frac{dk_\\parallel}{2\\pi\\,\\chi^2}\n",
    "  \\ \\cos[k_\\parallel \\chi_{ij}]\n",
    "  \\ j_0^2\\left(\\frac{k_\\parallel \\Delta\\chi}{2}\\right)\n",
    "  \\ P(k_\\perp=\\ell/\\chi,k_\\parallel)\n",
    "$$\n",
    "where $j_0(x)=\\sin(x)/x$ is the spherical Bessel function of order 0 and $\\chi$ is the comoving distance to the mean redshift."
   ]
  },
  {
   "cell_type": "markdown",
   "id": "a26c1c4c-c528-400b-9329-64071d606c2e",
   "metadata": {},
   "source": [
    "We will use CLASS to compute the power spectra and distance-redshift relations, etc."
   ]
  },
  {
   "cell_type": "code",
   "execution_count": 3,
   "id": "3c305adc-0d07-4152-b762-3ea386e4ce82",
   "metadata": {},
   "outputs": [
    {
     "name": "stdout",
     "output_type": "stream",
     "text": [
      "OmegaM= 0.31046286816444985\n",
      "sigma8= 0.7507748869468275\n",
      "hubble= 0.677\n",
      "omegab= 0.022420000000000002\n",
      "omegav= 0.000636\n"
     ]
    },
    {
     "data": {
      "text/plain": [
       "{'H0': 67.7,\n",
       " 'Omega_Lambda': 0.689458120355779,\n",
       " 'age': 13.786368683292558,\n",
       " 'conformal_age': 14167.998072801494,\n",
       " 'Neff': 3.0461982214534324,\n",
       " 'z_reio': 7.9087066650390625,\n",
       " '100*theta_s': 1.0419089178168865,\n",
       " 'rs_rec': 144.68928096862328,\n",
       " 'rs_d': 147.24447550725276}"
      ]
     },
     "execution_count": 3,
     "metadata": {},
     "output_type": "execute_result"
    }
   ],
   "source": [
    "# Set up a default set of parameters.\n",
    "params = {'output': 'tCl lCl mPk',\n",
    "          'l_max_scalars': 3000,\n",
    "          'lensing': 'yes',\n",
    "          'P_k_max_h/Mpc': 50.,\n",
    "          'non linear':'halofit', \n",
    "          'z_pk': '0.0,6',\n",
    "          'A_s': 1.81e-9,\n",
    "          'n_s': 0.9665,\n",
    "          'alpha_s': 0.,\n",
    "          'h': 0.6770,\n",
    "          'N_ur': 2.033,\n",
    "          'N_ncdm': 1,\n",
    "          'm_ncdm': 0.06,\n",
    "          'tau_reio': 0.0568,\n",
    "          'omega_b': 0.02242,\n",
    "          'omega_cdm': 0.11923,\n",
    "          'Omega_k': 0.}\n",
    "#\n",
    "cosmo = Class() \n",
    "cosmo.set(params) \n",
    "cosmo.compute()\n",
    "#\n",
    "wb = cosmo.omega_b()\n",
    "wnu= 0.0106 * params['m_ncdm']\n",
    "#\n",
    "print(\"OmegaM=\",cosmo.Omega_m())\n",
    "print(\"sigma8=\",cosmo.sigma8())\n",
    "print(\"hubble=\",cosmo.h())\n",
    "print(\"omegab=\",wb)\n",
    "print(\"omegav=\",wnu)\n",
    "#\n",
    "cosmo.get_current_derived_parameters(['H0','Omega_Lambda',\\\n",
    "                                      'age','conformal_age','Neff',\\\n",
    "                                      'z_reio','100*theta_s','rs_rec','rs_d'])"
   ]
  },
  {
   "cell_type": "code",
   "execution_count": 4,
   "id": "3691020c-3166-41f9-957e-ac39b8f7bde5",
   "metadata": {},
   "outputs": [
    {
     "name": "stdout",
     "output_type": "stream",
     "text": [
      "zz= 2.0 , knl= 0.4413542232221129  h/Mpc.\n",
      "zz= 2.5 , knl= 0.5120101597613601  h/Mpc.\n",
      "zz= 3.0 , knl= 0.5831897494106498  h/Mpc.\n",
      "zz= 3.5 , knl= 0.6546696842130945  h/Mpc.\n"
     ]
    }
   ],
   "source": [
    "# Compute the Zeldovich displacement and hence k_{nl}.\n",
    "hub= cosmo.h() # To convert to \"conventional\" Mpc/h units.\n",
    "kk = np.logspace(-3.5,0.3,250)\n",
    "#\n",
    "for zz in [2.0,2.5,3.0,3.5]:\n",
    "    pk = np.array( [cosmo.pk(k*hub,zz)*hub**3 for k in kk] )\n",
    "    pl = np.array( [cosmo.pk_lin(k*hub,zz)*hub**3 for k in kk] )\n",
    "    #\n",
    "    # Compute the Zeldovich displacement and hence k_{nl}.\n",
    "    knl= 1/np.sqrt( np.trapz(pl,x=kk)/6./np.pi**2 )\n",
    "    print(\"zz=\",zz,\", knl=\",knl,\" h/Mpc.\")\n",
    "#"
   ]
  },
  {
   "cell_type": "markdown",
   "id": "25a399b9-d63a-41d7-89b5-b1b7816e7006",
   "metadata": {},
   "source": [
    "### The luminosity function and bias of LAEs\n",
    "\n",
    "These are just Schechter fits taken from the literature, specifically [Konno+16](https://arxiv.org/abs/1512.01854)."
   ]
  },
  {
   "cell_type": "code",
   "execution_count": 5,
   "id": "bb46386b-fd52-479e-8c44-975bdac9ae81",
   "metadata": {},
   "outputs": [],
   "source": [
    "# Schechter function fits from the literature.  The phi* definition\n",
    "# is in terms of L, i.e. we need a ln(10) going to lgL [erg/s].\n",
    "# phi* is in units of Mpc^{-3} and converted to Mpc/h below.\n",
    "LFlist = []\n",
    "LFlist.append({'zfid':2.2,'phis':3.37e-4,'Lstar':4.87e42,'alpha':-1.80,\\\n",
    "               'ref':'Konno+16'})\n",
    "LFlist.append({'zfid':3.1,'phis':3.90e-4,'Lstar':8.49e42,'alpha':-1.80,\\\n",
    "               'ref':'Konno+16'})\n",
    "LFlist.append({'zfid':3.7,'phis':3.31e-4,'Lstar':9.16e42,'alpha':-1.80,\\\n",
    "               'ref':'Konno+16'})"
   ]
  },
  {
   "cell_type": "code",
   "execution_count": 6,
   "id": "b56786e3-ed26-4ea1-a43d-69067983dd48",
   "metadata": {},
   "outputs": [],
   "source": [
    "def nbar_fit(lgL,zz):\n",
    "    \"\"\"Computes nbar, in [Mpc/h]^{-3}, given line luminosity lgL [erg/s]\n",
    "    for LAEs.\"\"\"\n",
    "    # Choose the closest redshift in the table.\n",
    "    delz= np.array([np.abs(zz-lf['zfid']) for lf in LFlist])\n",
    "    lf  = LFlist[np.argmin(delz)]\n",
    "    # Get the Schechter paramerers, converting to Mpc/h units.\n",
    "    hub = cosmo.h()\n",
    "    phis,lgLstar,alpha = lf['phis']/hub**3,np.log10(lf['Lstar']),lf['alpha']\n",
    "    # Just brute-force the Schechter integral, it's plenty fast enough.\n",
    "    logl = np.linspace(lgL,lgLstar+10,1000)\n",
    "    ll   = 10.0**(logl-lgLstar)\n",
    "    lf   = np.log(10)*phis * ll**(alpha+1) * np.exp(-ll)\n",
    "    nbar = np.trapz(lf,logl)\n",
    "    return(nbar)"
   ]
  },
  {
   "cell_type": "code",
   "execution_count": 7,
   "id": "ea0ceb41-8a0d-434b-9aa5-1e7d7ce3ee7e",
   "metadata": {},
   "outputs": [],
   "source": [
    "def bias_fit(lgL,zz):\n",
    "    \"\"\"The large-scale bias.\"\"\"\n",
    "    bb = 1.5+1.0*(lgL-42.)/0.5 # A placeholder for now.\n",
    "    return(bb)\n",
    "    #"
   ]
  },
  {
   "cell_type": "markdown",
   "id": "79e904b9-2ecf-4314-a6c1-bc8c8e570af2",
   "metadata": {},
   "source": [
    "We need to convert fluxes to luminosities."
   ]
  },
  {
   "cell_type": "code",
   "execution_count": 8,
   "id": "0fcc2ec4-53d7-42c4-bae5-c864edbb915f",
   "metadata": {
    "tags": []
   },
   "outputs": [],
   "source": [
    "def flux2L(zz):\n",
    "    \"\"\"Convert a flux in erg/s/cm2 to log10(L) in [erg/s].\n",
    "    Add the returned value to log10(flux) to get log10(L).\"\"\"\n",
    "    Mpc_cm = 3.086e24 # 1 Mpc in cm.\n",
    "    dL     = cosmo.luminosity_distance(zz)\n",
    "    val    = np.log10(4*np.pi)+2*(np.log10(dL)+np.log10(Mpc_cm))\n",
    "    return(val)"
   ]
  },
  {
   "cell_type": "code",
   "execution_count": 9,
   "id": "0ffe5497-e8da-4805-a799-b69f80296c0f",
   "metadata": {},
   "outputs": [
    {
     "name": "stdout",
     "output_type": "stream",
     "text": [
      "z    =  3.1\n",
      "Flux =  5.00e-17 [erg/s/cm^2]\n",
      "lgL  = 42.64 [erg/s]\n",
      "nbar =  7.44e-04 [Mpc/h]^3\n",
      "bias =  2.8\n"
     ]
    }
   ],
   "source": [
    "# Just do a sanity check.\n",
    "zz   = 3.1\n",
    "flux = 5e-17\n",
    "lgL  = np.log10(flux) + flux2L(zz)\n",
    "#\n",
    "print(\"z    ={:5.1f}\".format(zz))\n",
    "print(\"Flux ={:10.2e} [erg/s/cm^2]\".format(flux))\n",
    "print(\"lgL  ={:6.2f} [erg/s]\".format(lgL))\n",
    "print(\"nbar ={:10.2e}\".format(nbar_fit(lgL,zz))+r' [Mpc/h]^3')\n",
    "print(\"bias ={:5.1f}\".format(bias_fit(lgL,zz)))"
   ]
  },
  {
   "cell_type": "markdown",
   "id": "1a320d56-acbe-446c-83a8-8c811bd5ba8b",
   "metadata": {},
   "source": [
    "## Use a simple model for the power spectrum\n",
    "\n",
    "We'll use a simple Kaiser+FoG model for the power spectrum.  We should really pre-compute and spline this or do some other kind of interpolation, but runtime isn't an issue for this exploratory work so we'll do it badly."
   ]
  },
  {
   "cell_type": "code",
   "execution_count": 10,
   "id": "661297ff-d266-4ae9-8f76-7264ca7ddc6c",
   "metadata": {},
   "outputs": [],
   "source": [
    "def pk2d(kpar,kperp,bb,sig,zz):\n",
    "    \"\"\"Returns the HaloFit P(kpar,kperp) at redshift zz for a\n",
    "    tracer of bias bb with FoG sig.\"\"\"\n",
    "    hub= cosmo.h() # To convert to \"conventional\" Mpc/h units.\n",
    "    ff = cosmo.scale_independent_growth_factor_f(zz)\n",
    "    kk = np.sqrt(kpar**2 + kperp**2)\n",
    "    mu = kpar/(kk+1e-30)\n",
    "    pk = cosmo.pk(kk*hub,zz)*hub**3\n",
    "    pk*= (bb+ff*mu**2)**2 * np.exp(-(kpar*sig)**2)\n",
    "    return(pk)\n",
    "#\n",
    "def pkmu(kk,mu,bb,sig,zz):\n",
    "    \"\"\"Returns P(k,mu) at redshift zz for a tracer of bias bb with FoG sig.\"\"\"\n",
    "    hub= cosmo.h() # To convert to \"conventional\" Mpc/h units.\n",
    "    ff = cosmo.scale_independent_growth_factor_f(zz)\n",
    "    pk = cosmo.pk(kk*hub,zz)*hub**3\n",
    "    pk*= (bb+ff*mu**2)**2 * np.exp(-(kk*mu*sig)**2)\n",
    "    return(pk)"
   ]
  },
  {
   "cell_type": "markdown",
   "id": "db9e37da-9e91-4fd7-ac93-45e968c5f331",
   "metadata": {},
   "source": [
    "## Now let's make some plots.\n",
    "\n",
    "First look at the integrand for $C_\\ell$."
   ]
  },
  {
   "cell_type": "code",
   "execution_count": 11,
   "id": "f960e338-823e-4878-8a62-ad1dc8367d03",
   "metadata": {},
   "outputs": [
    {
     "data": {
      "image/png": "[encoded data removed]",
      "text/plain": [
       "<Figure size 576x432 with 2 Axes>"
      ]
     },
     "metadata": {
      "needs_background": "light"
     },
     "output_type": "display_data"
    }
   ],
   "source": [
    "fig,ax = plt.subplots(1,1,figsize=(8,6))\n",
    "#\n",
    "xx = (np.arange(32)+0.5) / 32.\n",
    "yy = np.zeros( (xx.size,xx.size) )\n",
    "#\n",
    "ell = 1000 # Not used currently.\n",
    "bb  = bias_fit(lgL,zz)\n",
    "sig = 1.0  # Approximately 100km/s.\n",
    "#\n",
    "chi_ij = 0.0  # Shell separation (Mpc/h).\n",
    "dchi   = 40.0 # Shell width (Mpc/h).\n",
    "#\n",
    "for i,kperp in enumerate(xx):\n",
    "    for j,kpar in enumerate(xx):\n",
    "        yy[i,j] = np.cos(kpar*chi_ij)\n",
    "        yy[i,j]*= (np.sin(kpar*dchi/2)/(kpar*dchi/2))**2\n",
    "        yy[i,j]*= pk2d(kpar,kperp,bb,sig,zz)\n",
    "yy /= 2*np.pi\n",
    "# Do an arcsinh scale.\n",
    "scale = 1e-4*np.max(yy)\n",
    "yy =  np.arcsinh(yy/scale)\n",
    "cax = ax.imshow(yy.T,origin='lower',aspect='equal',cmap='Spectral',\\\n",
    "                extent=[xx[0],xx[-1],xx[0],xx[-1]])\n",
    "fig.colorbar(cax,ax=ax)\n",
    "#\n",
    "#\n",
    "ax.set_xlabel(r'$k_\\perp\\quad [h\\ \\mathrm{Mpc}^{-1}]$')\n",
    "ax.set_ylabel(r'$k_\\parallel\\quad [h\\ \\mathrm{Mpc}^{-1}]$')\n",
    "#\n",
    "plt.tight_layout()\n",
    "#plt.savefig('thin_shell.png')"
   ]
  },
  {
   "cell_type": "code",
   "execution_count": 12,
   "id": "aee679ea-7b1b-4c77-b16b-7bb221890352",
   "metadata": {},
   "outputs": [
    {
     "data": {
      "text/plain": [
       "Text(0, 0.5, '$dC_\\\\ell/dk_\\\\parallel$')"
      ]
     },
     "execution_count": 12,
     "metadata": {},
     "output_type": "execute_result"
    },
    {
     "data": {
      "image/png": "[encoded data removed]",
      "text/plain": [
       "<Figure size 432x234 with 1 Axes>"
      ]
     },
     "metadata": {
      "needs_background": "light"
     },
     "output_type": "display_data"
    }
   ],
   "source": [
    "# Now let's look instead at the integrand in kpar at fixed ell or kperp.\n",
    "#\n",
    "bb  = bias_fit(lgL,zz)\n",
    "sig = 1.0  # Approximately 100km/s.\n",
    "#\n",
    "chi_ij = 0.0  # Shell separation (Mpc/h).\n",
    "dchi   = 40.0 # Shell width (Mpc/h).\n",
    "#\n",
    "Nk   = 150\n",
    "kpar = np.linspace(1e-3,0.6,100)\n",
    "#\n",
    "fig,ax = plt.subplots(1,1,figsize=(6,3.25))\n",
    "#\n",
    "for j,kperp in enumerate([0.05,0.1,0.2,0.3]):\n",
    "    yy = np.zeros_like(kpar)\n",
    "    yy = np.cos(kpar*chi_ij)\n",
    "    yy*=(np.sin(kpar*dchi/2)/(kpar*dchi/2))**2\n",
    "    for i,kp in enumerate(kpar):\n",
    "        yy[i]*= pk2d(kp,kperp,bb,sig,zz)\n",
    "    yy /= 2*np.pi\n",
    "    ax.plot(kpar,yy,color='C'+str(j),label=r'$k_\\perp='+'{:.2f}$h/Mpc'.format(kperp))\n",
    "#\n",
    "ax.legend(title='$z={:.1f}$'.format(zz))\n",
    "#\n",
    "ax.set_xlim(0.0,0.6)\n",
    "ax.set_ylim(1.0,3e3)\n",
    "ax.set_yscale('log')\n",
    "ax.set_xlabel(r'$k_\\parallel\\quad [h\\ \\mathrm{Mpc}^{-1}]$')\n",
    "ax.set_ylabel(r'$dC_\\ell/dk_\\parallel$')"
   ]
  },
  {
   "cell_type": "markdown",
   "id": "69b556d6-ca78-4df6-90a7-e10bea51d383",
   "metadata": {
    "tags": []
   },
   "source": [
    "## Angular clustering\n",
    "\n",
    "### Angular power spectrum\n",
    "\n",
    "The above makes sense if we have redshifts for each object and so can provide \"tight\" redshift bounds.  In the case where we have only $dN/dz$ however we need to replace the line-of-sight window function with a more general expression.  Assuming $\\phi(\\chi)$ is the normalized redshift distribution\n",
    "$$\n",
    "  C_\\ell = \\int_0^\\infty\\frac{dk_\\parallel}{\\pi \\chi^2}\n",
    "  \\ P(k_\\perp=\\ell/\\chi,k_\\parallel)\n",
    "  \\ \\int d\\chi_1\\,d\\chi_2 \\phi(\\chi_1)\\phi(\\chi_2) \\cos(k_\\parallel[\\chi_1-\\chi_2])\n",
    "$$\n",
    "with $\\chi=(1/2)(\\chi_1+\\chi_2)$.  We recognize the integral $d\\chi_1\\,d\\chi_2$ as the square of the FT of $\\phi$.  We can also massage this as\n",
    "$$\n",
    "  W^2(k_\\parallel) = \\int d\\chi_1\\,d\\chi_2\\ \\phi(\\chi_1)\\phi(\\chi_2)\n",
    "  \\cos(k_\\parallel[\\chi_1-\\chi_2])\n",
    "$$\n",
    "or\n",
    "$$\n",
    "    \\left[ \\int d\\chi\\ \\phi(\\chi)\\cos(k_\\parallel[\\chi-\\chi_0]) \\right]^2\n",
    "  + \\left[ \\int d\\chi\\ \\phi(\\chi)\\sin(k_\\parallel[\\chi-\\chi_0]) \\right]^2\n",
    "$$\n",
    "where $\\chi_0$ is arbitrary but is best taken near the peak of $\\phi$ so that each term can be quickly done by quadrature.  This can then be converted to $w(\\theta)$\n",
    "$$\n",
    "  w(\\theta) = \\sum_\\ell\\frac{2\\ell+1}{4\\pi} C_\\ell P_\\ell(\\cos\\theta)\n",
    "  \\simeq \\int\\frac{\\ell\\ d\\ell}{2\\pi} C_\\ell J_0(\\ell\\tilde{\\omega})\n",
    "$$\n",
    "with $\\tilde{\\omega}=2\\sin(\\theta/2)$.  Combining terms\n",
    "$$\n",
    "  w(\\theta) = \\int \\frac{\\ell\\ d\\ell}{2\\pi}\\int_0^\\infty\\frac{dk_\\parallel}{\\pi \\chi^2}\n",
    "  \\ P(k_\\perp=\\ell/\\chi,k_\\parallel)\n",
    "  \\ W^2(k_\\parallel) J_0(\\ell\\tilde{\\omega})\n",
    "$$\n",
    "$$\n",
    "  = \\int \\frac{d^3k}{(2\\pi)^3}\n",
    "  \\ P(k_\\perp,k_\\parallel)\n",
    "  \\ W^2(k_\\parallel) J_0(k_\\perp\\chi\\tilde{\\omega})\n",
    "$$"
   ]
  },
  {
   "cell_type": "markdown",
   "id": "d1925bd8-07d3-4e37-9242-4db63db6e981",
   "metadata": {},
   "source": [
    "### Angular correlation function\n",
    "\n",
    "Sometimes it's easier to work in terms of the correlation function.  With narrow-band selection we're in the limit where the mean distance to a pair is \"fixed\", e.g. to $z=3$ with $\\Delta\\chi\\simeq 40\\,h^{-1}$Mpc we're changing $\\bar{\\chi}$ by $\\sim 1\\%$.  Let's imagine we impose strict redshift limits on our sample, so $\\phi=1$ within the sample and $0$ outside.\n",
    "\n",
    "In this limit\n",
    "$$\n",
    "  w_\\theta(R) = \\Delta^{-2} \\int_{\\chi_{min}}^{\\chi_{max}} d\\chi_1\n",
    "  \\int_{\\chi_{min}}^{\\chi_{max}}d\\chi_2\n",
    "  \\ \\xi(\\sqrt{R^2 + (\\chi_1-\\chi_2)^2},\\mu)\n",
    "$$\n",
    "where $\\Delta=\\chi_{max}-\\chi_{min}$, $R=\\bar{\\chi}\\theta$ is the transverse separation and $\\mu=(\\chi_1-\\chi_2)/\\sqrt{R^2+(\\chi_1-\\chi_2)^2}$.\n",
    "Since the integrand depends only upon $|\\chi_1-\\chi_2|$ we can change variables.  Writing $\\chi_{min}=\\bar{\\chi}-\\Delta/2$ and $\\chi_{max}=\\bar{\\chi}+\\Delta/2$ we have\n",
    "$$\n",
    "  w_\\theta(R) = 2\\Delta^{-2}\\int_{0}^{\\Delta} dy\\ (\\Delta-y)\\xi(\\sqrt{R^2+y^2},\\mu_y)\n",
    "$$\n",
    "This can be done with simple quadrature given a model for $\\xi_\\ell(s)$."
   ]
  },
  {
   "cell_type": "markdown",
   "id": "54491290-2e4c-4b65-bf4c-8aaac39c0c15",
   "metadata": {},
   "source": [
    "## Clustering errors\n",
    "\n",
    "Now let's do a very rough guess as to what kind of error bars we could get from an ODIN field.  The typical ODIN field is 7sq.deg., with the SHELA field being 24sq.deg.  Let's take the 7 sq.deg. field as our fiducial."
   ]
  },
  {
   "cell_type": "code",
   "execution_count": 13,
   "id": "922e5c85-548f-480f-94d4-c3874bf43a74",
   "metadata": {},
   "outputs": [
    {
     "name": "stdout",
     "output_type": "stream",
     "text": [
      "Nmode=426, dP/P=0.137\n"
     ]
    }
   ],
   "source": [
    "chi  = cosmo.comoving_distance(3.0) * cosmo.h()\n",
    "L    = np.sqrt(7.0) * np.pi/180 * chi\n",
    "kk,dk= 0.1,0.1\n",
    "nP   = 1.0 # Totally made up!\n",
    "#\n",
    "nmode = 4*np.pi*kk**2*dk/( (2*np.pi/L)**3 )\n",
    "ferr  = np.sqrt(2/nmode)*(1 + 1/nP)\n",
    "print(\"Nmode={:.0f}, dP/P={:.3f}\".format(nmode,ferr))"
   ]
  },
  {
   "cell_type": "markdown",
   "id": "5b0efc9e-fc4f-4f2e-aeaa-f46d4b476c2b",
   "metadata": {},
   "source": [
    "# The End"
   ]
  }
 ],
 "metadata": {
  "kernelspec": {
   "display_name": "CMB-env",
   "language": "python",
   "name": "cmb"
  },
  "language_info": {
   "codemirror_mode": {
    "name": "ipython",
    "version": 3
   },
   "file_extension": ".py",
   "mimetype": "text/x-python",
   "name": "python",
   "nbconvert_exporter": "python",
   "pygments_lexer": "ipython3",
   "version": "3.9.12"
  }
 },
 "nbformat": 4,
 "nbformat_minor": 5
}
